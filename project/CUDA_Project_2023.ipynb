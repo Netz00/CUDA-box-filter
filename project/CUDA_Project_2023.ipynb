{
  "cells": [
    {
      "attachments": {},
      "cell_type": "markdown",
      "metadata": {
        "colab_type": "text",
        "id": "view-in-github"
      },
      "source": [
        "<a href=\"https://colab.research.google.com/github/Netz00/CUDA_Box-filter/blob/main/CUDA_Project_2023.ipynb\" target=\"_parent\"><img src=\"https://colab.research.google.com/assets/colab-badge.svg\" alt=\"Open In Colab\"/></a>"
      ]
    },
    {
      "attachments": {},
      "cell_type": "markdown",
      "metadata": {
        "id": "kHpUdBd6qBAB"
      },
      "source": [
        "#CUDA"
      ]
    },
    {
      "attachments": {},
      "cell_type": "markdown",
      "metadata": {
        "id": "emktIVkyqHuW"
      },
      "source": [
        "## Environment check"
      ]
    },
    {
      "attachments": {},
      "cell_type": "markdown",
      "metadata": {
        "id": "jCdLVkZi6v0P"
      },
      "source": [
        "Ispitivanje da li postoji potrebno okruženje:\n",
        "nvcc - Nvidia c compiler\n",
        "gcc - c compiler\n",
        "g++ - c++ compiler"
      ]
    },
    {
      "cell_type": "code",
      "execution_count": null,
      "metadata": {
        "colab": {
          "base_uri": "https://localhost:8080/"
        },
        "id": "VoQy5p-Nko_r",
        "outputId": "cbf048f9-178f-45f4-9183-da14c927393a"
      },
      "outputs": [
        {
          "name": "stdout",
          "output_type": "stream",
          "text": [
            "nvcc: NVIDIA (R) Cuda compiler driver\n",
            "Copyright (c) 2005-2022 NVIDIA Corporation\n",
            "Built on Wed_Sep_21_10:33:58_PDT_2022\n",
            "Cuda compilation tools, release 11.8, V11.8.89\n",
            "Build cuda_11.8.r11.8/compiler.31833905_0\n",
            "gcc (Ubuntu 9.4.0-1ubuntu1~20.04.1) 9.4.0\n",
            "Copyright (C) 2019 Free Software Foundation, Inc.\n",
            "This is free software; see the source for copying conditions.  There is NO\n",
            "warranty; not even for MERCHANTABILITY or FITNESS FOR A PARTICULAR PURPOSE.\n",
            "\n",
            "g++ (Ubuntu 9.4.0-1ubuntu1~20.04.1) 9.4.0\n",
            "Copyright (C) 2019 Free Software Foundation, Inc.\n",
            "This is free software; see the source for copying conditions.  There is NO\n",
            "warranty; not even for MERCHANTABILITY or FITNESS FOR A PARTICULAR PURPOSE.\n",
            "\n"
          ]
        }
      ],
      "source": [
        "!nvcc --version\n",
        "!gcc --version\n",
        "!g++ --version"
      ]
    },
    {
      "attachments": {},
      "cell_type": "markdown",
      "metadata": {
        "id": "Mh5I8Wse7ITf"
      },
      "source": [
        "Test da li radi g++ (c++ compiler)\n",
        "1. Napisati c++ file i spremiti ga na dodjeljeni drive\n",
        "File se spremi naredbom : %%writefile test.cpp"
      ]
    },
    {
      "cell_type": "code",
      "execution_count": null,
      "metadata": {
        "colab": {
          "base_uri": "https://localhost:8080/"
        },
        "id": "0Cx3gzt-l19y",
        "outputId": "e5930702-1554-4298-fc8b-123dd3bc0116"
      },
      "outputs": [
        {
          "name": "stdout",
          "output_type": "stream",
          "text": [
            "Writing test.cpp\n"
          ]
        }
      ],
      "source": [
        "%%writefile test.cpp\n",
        "#include <iostream>\n",
        "using namespace std;\n",
        "int main()\n",
        "{\n",
        "  cout << \"Test cpp\";\n",
        "  return 1;\n",
        "}"
      ]
    },
    {
      "attachments": {},
      "cell_type": "markdown",
      "metadata": {
        "id": "LgT-5shN7eqC"
      },
      "source": [
        "Kompajliranje napisanog C++ file-a"
      ]
    },
    {
      "cell_type": "code",
      "execution_count": null,
      "metadata": {
        "id": "n8N5Wo9-lKx5"
      },
      "outputs": [],
      "source": [
        "!g++ test.cpp -o test.o"
      ]
    },
    {
      "attachments": {},
      "cell_type": "markdown",
      "metadata": {
        "id": "2Tc1oK2Z7mva"
      },
      "source": [
        "Izvođenje izvedbenog koda.\n",
        "Treba dobiti željeni ispis!"
      ]
    },
    {
      "cell_type": "code",
      "execution_count": null,
      "metadata": {
        "colab": {
          "base_uri": "https://localhost:8080/"
        },
        "id": "ZwaY1mInk7b7",
        "outputId": "48066b00-8dbe-4d7c-de47-35531d036966"
      },
      "outputs": [
        {
          "name": "stdout",
          "output_type": "stream",
          "text": [
            "Test cpp"
          ]
        }
      ],
      "source": [
        "!./test.o"
      ]
    },
    {
      "attachments": {},
      "cell_type": "markdown",
      "metadata": {
        "id": "oM4ZU2gI79Ts"
      },
      "source": [
        "Test da li radi gcc (C compiler)"
      ]
    },
    {
      "cell_type": "code",
      "execution_count": null,
      "metadata": {
        "colab": {
          "base_uri": "https://localhost:8080/"
        },
        "id": "1I3vh9Ktoj5w",
        "outputId": "45c3b842-e051-4ca4-c912-bed014844f94"
      },
      "outputs": [
        {
          "name": "stdout",
          "output_type": "stream",
          "text": [
            "Writing test.c\n"
          ]
        }
      ],
      "source": [
        "%%writefile test.c\n",
        "#include <stdio.h>\n",
        "\n",
        "int main()\n",
        "{\n",
        "  printf(\"TEST c\");\n",
        "  return 1;\n",
        "}"
      ]
    },
    {
      "attachments": {},
      "cell_type": "markdown",
      "metadata": {
        "id": "jYIM6uiB8Cri"
      },
      "source": [
        "Kompajliranje napisanog C file-a"
      ]
    },
    {
      "cell_type": "code",
      "execution_count": null,
      "metadata": {
        "id": "bfSo55ekox1S"
      },
      "outputs": [],
      "source": [
        "!gcc test.c -o test"
      ]
    },
    {
      "attachments": {},
      "cell_type": "markdown",
      "metadata": {
        "id": "WZnxEG_E8HuD"
      },
      "source": [
        "Izvođenje izvedbenog koda. Treba dobiti željeni ispis!"
      ]
    },
    {
      "cell_type": "code",
      "execution_count": null,
      "metadata": {
        "colab": {
          "base_uri": "https://localhost:8080/"
        },
        "id": "-KfLA6eCo5-w",
        "outputId": "687ea7e5-90ac-4978-c623-9a2e8f11bcd4"
      },
      "outputs": [
        {
          "name": "stdout",
          "output_type": "stream",
          "text": [
            "TEST c"
          ]
        }
      ],
      "source": [
        "!./test"
      ]
    },
    {
      "attachments": {},
      "cell_type": "markdown",
      "metadata": {
        "id": "Go1HAWTB8J3_"
      },
      "source": [
        "Korištenje nvcc kompajlera!\n",
        "Primjeri su objašnjeni u popratnom CUDA.pdf fileu!"
      ]
    },
    {
      "cell_type": "code",
      "execution_count": null,
      "metadata": {
        "colab": {
          "base_uri": "https://localhost:8080/"
        },
        "id": "FFQ6W-ZDpUDr",
        "outputId": "d159167c-3b4b-47fa-8433-c34c58775013"
      },
      "outputs": [
        {
          "name": "stdout",
          "output_type": "stream",
          "text": [
            "Writing add_simple.cu\n"
          ]
        }
      ],
      "source": [
        "%%writefile add_simple.cu\n",
        "#include <stdio.h>\n",
        "\n",
        "__global__ void add(int*a, int*b, int*c)\n",
        "{ *c = *a + *b; }\n",
        "\n",
        "int main(void)\n",
        "{\n",
        "  int a, b, c;\n",
        "\n",
        "// host copies of a, b, c\n",
        "  int *d_a, *d_b, *d_c;\n",
        "\n",
        "// device copies of a, b, c\n",
        "  int size = sizeof(int);\n",
        "\n",
        "// Allocate space for device copies of a, b, c\n",
        "  cudaMalloc((void**)&d_a, size);\n",
        "  cudaMalloc((void**)&d_b, size);\n",
        "  cudaMalloc((void**)&d_c, size);\n",
        "\n",
        "// Setup input values\n",
        "  a = 2;\n",
        "  b = 7;\n",
        "\n",
        "// Copy inputs to device\n",
        "  cudaMemcpy(d_a, &a, size, cudaMemcpyHostToDevice);\n",
        "  cudaMemcpy(d_b, &b, size, cudaMemcpyHostToDevice);\n",
        "\n",
        "// Launch add() kernel on GPU\n",
        "  add<<<1,1>>>(d_a, d_b, d_c);\n",
        "\n",
        "// Copy result back to host\n",
        "  cudaMemcpy(&c, d_c, size, cudaMemcpyDeviceToHost);\n",
        "\n",
        "//print result\n",
        "  printf(\"%i + %i = %i\\n\",a,b,c);\n",
        "\n",
        "// Cleanup\n",
        "  cudaFree(d_a);\n",
        "  cudaFree(d_b);\n",
        "  cudaFree(d_c);\n",
        "\n",
        "  return 0;\n",
        "}"
      ]
    },
    {
      "cell_type": "code",
      "execution_count": null,
      "metadata": {
        "id": "1UeBtlk_pc8Y"
      },
      "outputs": [],
      "source": [
        "!nvcc add_simple.cu -o add_simple"
      ]
    },
    {
      "cell_type": "code",
      "execution_count": null,
      "metadata": {
        "colab": {
          "base_uri": "https://localhost:8080/"
        },
        "id": "jx3SOpCsp_Bp",
        "outputId": "c919c1c4-b78c-4d39-bc95-29969dd80fdf"
      },
      "outputs": [
        {
          "name": "stdout",
          "output_type": "stream",
          "text": [
            "2 + 7 = 9\n"
          ]
        }
      ],
      "source": [
        "!./add_simple"
      ]
    },
    {
      "attachments": {},
      "cell_type": "markdown",
      "metadata": {
        "id": "EykFx07gGKO2"
      },
      "source": [
        "# Project - Box filter implementation"
      ]
    },
    {
      "attachments": {},
      "cell_type": "markdown",
      "metadata": {
        "id": "6724086bI0Zt"
      },
      "source": [
        "- image of minimum resolution 1500x1500x3 (or greater)\n",
        "- implement box filter:\n",
        "  - without parallelization\n",
        "  - GPU Parallel computing without shared memory\n",
        "  - GPU Parallel computing with shared memory"
      ]
    },
    {
      "attachments": {},
      "cell_type": "markdown",
      "metadata": {
        "id": "FZsf5Md2J_ze"
      },
      "source": [
        "## Box filter"
      ]
    },
    {
      "attachments": {},
      "cell_type": "markdown",
      "metadata": {
        "id": "uk2F0U3LN8ax"
      },
      "source": [
        "Box Filter is a low-pass filter that smooths the image by making each output pixel the average of the surrounding ones, removing details, noise and and edges from images.\n",
        "\n",
        "The Box filter is implemented as a convolution operation on the input image using the following kernel:\n",
        "\n",
        "$\n",
        "box_{m,n}=\n",
        "    \\frac{1}{m\\cdot n}\n",
        "    \\left[{\\begin{array}{cccc}\n",
        "    1 & 1 & \\cdots & 1\\\\\n",
        "    1 & 1 & \\cdots & 1\\\\\n",
        "    \\vdots & \\vdots & \\ddots & \\vdots\\\\\n",
        "    1 & 1 & \\cdots & 1\\\\\n",
        "    \\end{array}}\\right]_{m\\times n}\n",
        "$\n",
        "\n",
        "\n",
        "Also knows as Box blur, the average blur or the mean blur, is a common image processing technique used to reduce image noise and create a smoother appearance. It works by averaging the color values of each pixel with its surrounding pixels.\n",
        "\n",
        "<p align=\"center\">\n",
        "<img alt=\"A diagram that shows a 3 by 3 convolution kernel centered over a source pixel, highlighting the new pixel value.\" src=\"https://docs-assets.developer.apple.com/published/09348c5368/a55b1477-4f79-4221-8aa1-ab3ae9f01f89.png\"  width=\"384.5\" height=\"auto\">\n",
        "</p>"
      ]
    },
    {
      "attachments": {},
      "cell_type": "markdown",
      "metadata": {
        "id": "CVNvg4M8btUT"
      },
      "source": [
        "## Prepare image for processing"
      ]
    },
    {
      "attachments": {},
      "cell_type": "markdown",
      "metadata": {
        "id": "cp5CCyjlWliY"
      },
      "source": [
        "\n",
        "Used image:\n",
        "- BMP format\n",
        "- resolution 1920x1280\n",
        "\n",
        "![Image](https://filesamples.com/samples/image/bmp/sample_1920%C3%971280.bmp)"
      ]
    },
    {
      "attachments": {},
      "cell_type": "markdown",
      "metadata": {
        "id": "gBucp2V1bYl_"
      },
      "source": [
        "Download the image."
      ]
    },
    {
      "cell_type": "code",
      "execution_count": null,
      "metadata": {
        "id": "q9YMFSvvaQi9"
      },
      "outputs": [],
      "source": [
        "import requests\n",
        "\n",
        "img_data = requests.get(\"https://filesamples.com/samples/image/bmp/sample_1920%C3%971280.bmp\").content\n",
        "with open('image.bmp', 'wb') as handler:\n",
        "    handler.write(img_data)"
      ]
    },
    {
      "attachments": {},
      "cell_type": "markdown",
      "metadata": {
        "id": "LMClMoKT8NMd"
      },
      "source": [
        "## Prepare test for filter result"
      ]
    },
    {
      "attachments": {},
      "cell_type": "markdown",
      "metadata": {
        "id": "vavyt_Fb8SSo"
      },
      "source": [
        "How to test the result of applying filter?\n",
        "1. Apply filter on same image using python library (Pillow, OpenCV).\n",
        "2. Calculate MD5 checksum of image.\n",
        "3. In order to test any new result of applying filter calculate MD5 checksum and compare it to the previous checksum.\n",
        "\n",
        "But, Pillow and OpenCV make additional changes except applying filter.\n",
        "Pillow changes single byte in header so the result can't be used for verification.\n",
        "\n",
        "Solution 1.\n",
        "Import and then store original image (without any modifications). And then using the exported image as reference for verification. Image checksum has been modified but this doesn't slove the problem.\n",
        "\n",
        "Solution 2.\n",
        "Use image proccessed by the CPU as reference for verficiation."
      ]
    },
    {
      "attachments": {},
      "cell_type": "markdown",
      "metadata": {
        "id": "aO5CJ4SFH08q"
      },
      "source": [
        "### Pillow"
      ]
    },
    {
      "cell_type": "code",
      "execution_count": null,
      "metadata": {
        "id": "TplcRf_H86L6"
      },
      "outputs": [],
      "source": [
        "from PIL import Image, ImageFilter"
      ]
    },
    {
      "cell_type": "code",
      "execution_count": null,
      "metadata": {
        "id": "oGK2hfYUtrao"
      },
      "outputs": [],
      "source": [
        "im1 = Image.open('image.bmp')\n",
        "im1.save('image-pillow.bmp')"
      ]
    },
    {
      "cell_type": "code",
      "execution_count": null,
      "metadata": {
        "colab": {
          "base_uri": "https://localhost:8080/"
        },
        "id": "uTLMNDLA2Uyb",
        "outputId": "7caa0c8f-6373-4dbd-c3b7-7f9799fd8f7f"
      },
      "outputs": [
        {
          "name": "stdout",
          "output_type": "stream",
          "text": [
            "88bd526f4f2bf1981c4bd88d075ee96e  image.bmp\n"
          ]
        }
      ],
      "source": [
        "!md5sum image.bmp"
      ]
    },
    {
      "cell_type": "code",
      "execution_count": null,
      "metadata": {
        "colab": {
          "base_uri": "https://localhost:8080/"
        },
        "id": "FSo9R7Gb2VHR",
        "outputId": "211421bc-c723-468d-dfc0-b92e854971ce"
      },
      "outputs": [
        {
          "name": "stdout",
          "output_type": "stream",
          "text": [
            "2c51759537e0a54cd6e14bbac914ff95  image-pillow.bmp\n"
          ]
        }
      ],
      "source": [
        "!md5sum image-pillow.bmp"
      ]
    },
    {
      "cell_type": "code",
      "execution_count": null,
      "metadata": {
        "colab": {
          "base_uri": "https://localhost:8080/"
        },
        "id": "aoZ-9xXWo1Fr",
        "outputId": "c307cb9a-2124-43dd-c981-58d464c142b3"
      },
      "outputs": [
        {
          "name": "stdout",
          "output_type": "stream",
          "text": [
            "image.bmp image-pillow.bmp differ: byte 3, line 1 is 212 M-^J  66 6\n"
          ]
        }
      ],
      "source": [
        "!cmp -b image.bmp image-pillow.bmp"
      ]
    },
    {
      "cell_type": "code",
      "execution_count": null,
      "metadata": {
        "colab": {
          "base_uri": "https://localhost:8080/"
        },
        "id": "s76wLjHQobqV",
        "outputId": "c142b3d1-e302-4037-d82c-6e5c6e37d961"
      },
      "outputs": [
        {
          "name": "stdout",
          "output_type": "stream",
          "text": [
            "00000000  42 4d 8a 80 70 00 00 00  00 00 8a 00 00 00 7c 00  |BM..p.........|.|\n",
            "00000010  00 00 80 07                                       |....|\n",
            "00000014\n"
          ]
        }
      ],
      "source": [
        "!hexdump -C -n 20 image.bmp"
      ]
    },
    {
      "cell_type": "code",
      "execution_count": null,
      "metadata": {
        "colab": {
          "base_uri": "https://localhost:8080/"
        },
        "id": "XP3PaYHFoqiy",
        "outputId": "dd483d99-66b1-4c3e-9a74-4b350640e0b8"
      },
      "outputs": [
        {
          "name": "stdout",
          "output_type": "stream",
          "text": [
            "00000000  42 4d 36 80 70 00 00 00  00 00 36 00 00 00 28 00  |BM6.p.....6...(.|\n",
            "00000010  00 00 80 07                                       |....|\n",
            "00000014\n"
          ]
        }
      ],
      "source": [
        "!hexdump -C -n 20 image-pillow.bmp"
      ]
    },
    {
      "cell_type": "code",
      "execution_count": null,
      "metadata": {
        "id": "F7zOCOaz9GFZ"
      },
      "outputs": [],
      "source": [
        "im1 = Image.open('image.bmp')\n",
        "\n",
        "im2 = im1.filter(ImageFilter.BoxBlur(4))\n",
        "\n",
        "im2.save('image-pillow_filter.bmp')"
      ]
    },
    {
      "attachments": {},
      "cell_type": "markdown",
      "metadata": {
        "id": "GXtITz7SH-WM"
      },
      "source": [
        "### Comparison"
      ]
    },
    {
      "cell_type": "code",
      "execution_count": null,
      "metadata": {
        "id": "-bNIz2Votj2_"
      },
      "outputs": [],
      "source": [
        "import hashlib\n",
        "\n",
        "def compare(file_name_valid, file_name_new):\n",
        "\n",
        "  md5_valid = ''\n",
        "  md5_new = ''\n",
        "\n",
        "  with open(file_name_valid, 'rb') as file_to_check:\n",
        "    data = file_to_check.read()\n",
        "    md5_valid = hashlib.md5(data).hexdigest()\n",
        "\n",
        "  with open(file_name_new, 'rb') as file_to_check:\n",
        "      data = file_to_check.read()\n",
        "      md5_new = hashlib.md5(data).hexdigest()\n",
        "\n",
        "  if md5_valid == md5_new:\n",
        "      print(\"\\x1B[32mMD5 verified.\\x1B[0m\")\n",
        "  else:\n",
        "      print(\"\\x1B[31mMD5 verification failed!\\x1B[0m\")\n"
      ]
    },
    {
      "cell_type": "code",
      "execution_count": null,
      "metadata": {
        "colab": {
          "base_uri": "https://localhost:8080/"
        },
        "id": "1uqn0WN4vPc5",
        "outputId": "64abbbe2-3fd9-452b-a4ee-5e593ca8176e"
      },
      "outputs": [
        {
          "name": "stdout",
          "output_type": "stream",
          "text": [
            "\u001b[32mMD5 verified.\u001b[0m\n"
          ]
        }
      ],
      "source": [
        "compare('image-pillow.bmp','image-pillow.bmp')"
      ]
    },
    {
      "cell_type": "code",
      "execution_count": null,
      "metadata": {
        "colab": {
          "base_uri": "https://localhost:8080/"
        },
        "id": "HZlrtlfsvVOj",
        "outputId": "816196d8-6d0f-4e3b-c796-876379e57fa9"
      },
      "outputs": [
        {
          "name": "stdout",
          "output_type": "stream",
          "text": [
            "\u001b[31mMD5 verification failed!\u001b[0m\n"
          ]
        }
      ],
      "source": [
        "compare('image-pillow.bmp','image.bmp')"
      ]
    },
    {
      "attachments": {},
      "cell_type": "markdown",
      "metadata": {
        "id": "pS9LpyidN9bd"
      },
      "source": [
        "## Implementation"
      ]
    },
    {
      "attachments": {},
      "cell_type": "markdown",
      "metadata": {
        "id": "fhi-tdltcJcu"
      },
      "source": [
        "### Handling BPM file"
      ]
    },
    {
      "attachments": {},
      "cell_type": "markdown",
      "metadata": {
        "id": "STMT_e9Mak5d"
      },
      "source": [
        "Following [library](https://github.com/mattflow/cbmp) was used for simple BMP manipulation. Library was not completely suitable for task, so only load and store functionality were used."
      ]
    },
    {
      "attachments": {},
      "cell_type": "markdown",
      "metadata": {
        "id": "YbE6k1uGawel"
      },
      "source": [
        "#### Downloading library"
      ]
    },
    {
      "attachments": {},
      "cell_type": "markdown",
      "metadata": {
        "id": "xc82o5SmvzFY"
      },
      "source": [
        "Download library files of the specific version (at the specific commit)."
      ]
    },
    {
      "cell_type": "code",
      "execution_count": null,
      "metadata": {
        "id": "LSPj33ZHZ6-P"
      },
      "outputs": [],
      "source": [
        "import requests\n",
        "\n",
        "img_data = requests.get(\"https://raw.githubusercontent.com/mattflow/cbmp/28e7731a5904b2019518fad74b69115d56ebaf4c/cbmp.c\").content\n",
        "with open('cbmp.c', 'wb') as handler:\n",
        "    handler.write(img_data)\n",
        "\n",
        "img_data = requests.get(\"https://raw.githubusercontent.com/mattflow/cbmp/28e7731a5904b2019518fad74b69115d56ebaf4c/cbmp.h\").content\n",
        "with open('cbmp.h', 'wb') as handler:\n",
        "    handler.write(img_data)"
      ]
    },
    {
      "attachments": {},
      "cell_type": "markdown",
      "metadata": {},
      "source": [
        "(If links are dead, backup of library is available inside *project/bmp-lib_backup*.)"
      ]
    },
    {
      "attachments": {},
      "cell_type": "markdown",
      "metadata": {
        "id": "GRP9CVFva1s0"
      },
      "source": [
        "#### Test cbmp"
      ]
    },
    {
      "attachments": {},
      "cell_type": "markdown",
      "metadata": {
        "id": "hu52_OXjv_xM"
      },
      "source": [
        "Invert image colors in order to test library."
      ]
    },
    {
      "cell_type": "code",
      "execution_count": null,
      "metadata": {
        "colab": {
          "base_uri": "https://localhost:8080/"
        },
        "id": "h4N0jLYvb3lP",
        "outputId": "5f6866b5-ad28-40d3-9a6a-4ba14478656b"
      },
      "outputs": [
        {
          "name": "stdout",
          "output_type": "stream",
          "text": [
            "Writing cbmp_test.c\n"
          ]
        }
      ],
      "source": [
        "%%writefile cbmp_test.c\n",
        "#include <stdlib.h>\n",
        "#include <stdio.h>\n",
        "#include \"cbmp.h\"\n",
        "\n",
        "int main(int argc, char** argv)\n",
        "{\n",
        "\n",
        "    if (argc != 3)\n",
        "    {\n",
        "        fprintf(stderr, \"Usage: %s <input file> <output file>\\n\", argv[0]);\n",
        "        exit(1);\n",
        "    }\n",
        "\n",
        "    // Read image into BMP struct\n",
        "    BMP* bmp = bopen(argv[1]);\n",
        "\n",
        "    unsigned int x, y, width, height;\n",
        "    unsigned char r, g, b;\n",
        "\n",
        "    // Gets image width in pixels\n",
        "    width = get_width(bmp);\n",
        "\n",
        "    // Gets image height in pixels\n",
        "    height = get_height(bmp);\n",
        "\n",
        "    for (x = 0; x < width; x++)\n",
        "    {\n",
        "        for (y = 0; y < height; y++)\n",
        "        {\n",
        "            // Gets pixel rgb values at point (x, y)\n",
        "            get_pixel_rgb(bmp, x, y, &r, &g, &b);\n",
        "\n",
        "            // Sets pixel rgb values at point (x, y)\n",
        "            set_pixel_rgb(bmp, x, y, 255 - r, 255 - g, 255 - b);\n",
        "        }\n",
        "    }\n",
        "\n",
        "    // Write bmp contents to file\n",
        "    bwrite(bmp, argv[2]);\n",
        "\n",
        "    // Free memory\n",
        "    bclose(bmp);\n",
        "\n",
        "    return 0;\n",
        "}"
      ]
    },
    {
      "cell_type": "code",
      "execution_count": null,
      "metadata": {
        "id": "wiMtGy3HcXzb"
      },
      "outputs": [],
      "source": [
        "!gcc cbmp_test.c cbmp.c -o cbmp_test"
      ]
    },
    {
      "cell_type": "code",
      "execution_count": null,
      "metadata": {
        "id": "QwqH6aVkOCm4"
      },
      "outputs": [],
      "source": [
        "!./cbmp_test image-pillow.bmp image-cbmp_test.bmp"
      ]
    },
    {
      "attachments": {},
      "cell_type": "markdown",
      "metadata": {
        "id": "Bwi59JVtwnBO"
      },
      "source": [
        "Before\n",
        "\n",
        "![sample_1920×1280.bmp](data:image/bmp;base64,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)\n",
        "\n",
        "After\n",
        "\n",
        "![sample_1920×1280_edited.bmp](data:image/bmp;base64,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)"
      ]
    },
    {
      "attachments": {},
      "cell_type": "markdown",
      "metadata": {
        "id": "s2FitCk_4Rag"
      },
      "source": [
        "### Runner"
      ]
    },
    {
      "attachments": {},
      "cell_type": "markdown",
      "metadata": {
        "id": "adIV8Z9b1v94"
      },
      "source": [
        "#### Code - main"
      ]
    },
    {
      "cell_type": "code",
      "execution_count": null,
      "metadata": {
        "colab": {
          "base_uri": "https://localhost:8080/"
        },
        "id": "A1_VAd6C2AjD",
        "outputId": "f04ee4ca-da2c-433c-ebd3-3712702d69a7"
      },
      "outputs": [
        {
          "name": "stdout",
          "output_type": "stream",
          "text": [
            "Writing main.c\n"
          ]
        }
      ],
      "source": [
        "%%writefile main.c\n",
        "#include <stdlib.h>\n",
        "#include <stdio.h>\n",
        "#include <time.h>\n",
        "\n",
        "#include \"cbmp.h\"\n",
        "#include \"cpu_no_parallelization.h\"\n",
        "#include \"gpu_no_shared_mem.h\"\n",
        "#include \"gpu_with_shared_mem.h\"\n",
        "\n",
        "int main(int argc, char **argv)\n",
        "{\n",
        "    if (argc != 3)\n",
        "    {\n",
        "        fprintf(stderr, \"Usage: %s <input file> <output file>\\n\", argv[0]);\n",
        "        exit(1);\n",
        "    }\n",
        "\n",
        "    // Read image into BMP struct\n",
        "    BMP *bmp = bopen(argv[1]);\n",
        "\n",
        "    // Gets image width in pixels\n",
        "    unsigned int width = get_width(bmp);\n",
        "\n",
        "    // Gets image height in pixels\n",
        "    unsigned int height = get_height(bmp);\n",
        "\n",
        "    clock_t begin, end;\n",
        "    double time_spent;\n",
        "    begin = clock();\n",
        "\n",
        "    // ########################## START ##########################\n",
        "\n",
        "    #ifdef VERSION\n",
        "\n",
        "      #if VERSION == 0\n",
        "        cpu_no_parallelization(bmp, width, height);\n",
        "      #endif\n",
        "\n",
        "      #if VERSION == 1\n",
        "        gpu_no_shared_mem(bmp, width, height);\n",
        "      #endif\n",
        "\n",
        "      #if VERSION == 2\n",
        "        gpu_with_shared_mem(bmp, width, height);\n",
        "      #endif\n",
        "\n",
        "    #endif\n",
        "\n",
        "    // ########################## END ##########################\n",
        "\n",
        "    end = clock();\n",
        "    time_spent = (double)(end - begin) / CLOCKS_PER_SEC;\n",
        "    printf(\"Elapsed time:\\t%f seconds\\n\", time_spent);\n",
        "\n",
        "    // Write bmp contents to file\n",
        "    bwrite(bmp, argv[2]);\n",
        "\n",
        "    // Free memory\n",
        "    bclose(bmp);\n",
        "\n",
        "    return 0;\n",
        "}\n"
      ]
    },
    {
      "attachments": {},
      "cell_type": "markdown",
      "metadata": {
        "id": "DFwGDXw6OEFP"
      },
      "source": [
        "### CPU"
      ]
    },
    {
      "attachments": {},
      "cell_type": "markdown",
      "metadata": {
        "id": "OGCUATT_SXGr"
      },
      "source": [
        "#### Code - CPU no parallelization"
      ]
    },
    {
      "cell_type": "code",
      "execution_count": null,
      "metadata": {
        "colab": {
          "base_uri": "https://localhost:8080/"
        },
        "id": "Byu0w26lSgeL",
        "outputId": "e0ef5ad6-16fb-4643-cfea-bbaae454b1a7"
      },
      "outputs": [
        {
          "name": "stdout",
          "output_type": "stream",
          "text": [
            "Writing cpu_no_parallelization.h\n"
          ]
        }
      ],
      "source": [
        "%%writefile cpu_no_parallelization.h\n",
        "#ifndef CPU_NO_PARALLELIZATION\n",
        "#define CPU_NO_PARALLELIZATION\n",
        "\n",
        "#ifdef __cplusplus\n",
        "extern \"C\" {\n",
        "#endif\n",
        "\n",
        "int cpu_no_parallelization(BMP *bmp, unsigned int width, unsigned int height);\n",
        "\n",
        "#ifdef __cplusplus\n",
        "}\n",
        "#endif\n",
        "\n",
        "#endif // CPU_NO_PARALLELIZATION\n"
      ]
    },
    {
      "cell_type": "code",
      "execution_count": null,
      "metadata": {
        "colab": {
          "base_uri": "https://localhost:8080/"
        },
        "id": "VNoWyVC5SgR9",
        "outputId": "8c79bb6d-33ac-4df0-ee91-c5f733e536aa"
      },
      "outputs": [
        {
          "name": "stdout",
          "output_type": "stream",
          "text": [
            "Overwriting cpu_no_parallelization.c\n"
          ]
        }
      ],
      "source": [
        "%%writefile cpu_no_parallelization.c\n",
        "#include <stdlib.h>\n",
        "#include <stdio.h>\n",
        "#include \"cbmp.h\"\n",
        "#include \"cpu_no_parallelization.h\"\n",
        "\n",
        "#ifndef R\n",
        "#define R 4           // filter radius\n",
        "#endif\n",
        "\n",
        "int cpu_no_parallelization(BMP *bmp, unsigned int width, unsigned int height)\n",
        "{\n",
        "\n",
        "    pixel *result_pixels = (pixel *)malloc(width * height * sizeof(pixel));\n",
        "\n",
        "    for (unsigned int el = 0, el_max = width * height; el < el_max; el++)\n",
        "    {\n",
        "        unsigned int x = el % width; // column\n",
        "        unsigned int y = el / width; // row\n",
        "\n",
        "        unsigned int tr = 0, tg = 0, tb = 0; // temporary storage for accumulated RGB values\n",
        "        unsigned int pixel_counter = 0;      // counter of valid pixels\n",
        "\n",
        "        for (int i = -R; i <= R; i++)\n",
        "        {\n",
        "            for (int j = -R; j <= R; j++)\n",
        "            {\n",
        "                int temp_x = x + i;\n",
        "                int temp_y = y + j;\n",
        "\n",
        "                if (temp_x >= 0 && temp_y >= 0 && temp_x < width && temp_y < height)\n",
        "                {\n",
        "\n",
        "                    int index = temp_y * width + temp_x;\n",
        "                    tr += bmp->pixels[index].red;\n",
        "                    tg += bmp->pixels[index].green;\n",
        "                    tb += bmp->pixels[index].blue;\n",
        "\n",
        "                    pixel_counter++;\n",
        "                }\n",
        "            }\n",
        "        }\n",
        "\n",
        "        result_pixels[el].red = (unsigned char)(tr / pixel_counter)+0.5;\n",
        "        result_pixels[el].green = (unsigned char)(tg / pixel_counter)+0.5;\n",
        "        result_pixels[el].blue = (unsigned char)(tb / pixel_counter)+0.5;\n",
        "        // result_pixels[el].alpha = bmp->pixels[el].alpha;\n",
        "    }\n",
        "\n",
        "    free(bmp->pixels); // free non filtered pixels\n",
        "    bmp->pixels = NULL;\n",
        "    bmp->pixels = result_pixels; // point to filtered pixels\n",
        "\n",
        "    return 0;\n",
        "}\n"
      ]
    },
    {
      "attachments": {},
      "cell_type": "markdown",
      "metadata": {
        "id": "MRPcnaj4xI0Y"
      },
      "source": [
        "### GPU\n"
      ]
    },
    {
      "attachments": {},
      "cell_type": "markdown",
      "metadata": {
        "id": "Dh-6Qa5ZCGmE"
      },
      "source": [
        "Determine GPU model and search for [documentation](https://tvm.d2l.ai/chapter_gpu_schedules/arch.html) at non-official sites."
      ]
    },
    {
      "cell_type": "code",
      "execution_count": null,
      "metadata": {
        "colab": {
          "base_uri": "https://localhost:8080/"
        },
        "id": "N-GBM0-NfNI_",
        "outputId": "462d0fab-cf55-4ceb-aea4-cdbb47f16bcf"
      },
      "outputs": [
        {
          "name": "stdout",
          "output_type": "stream",
          "text": [
            "    Product Name                          : Tesla T4\n"
          ]
        }
      ],
      "source": [
        "!nvidia-smi -q -i 0 | grep \"Product Name\""
      ]
    },
    {
      "attachments": {},
      "cell_type": "markdown",
      "metadata": {
        "id": "jrkOTFdlqXoU"
      },
      "source": [
        "![image](./img/image.svg)\n",
        "\n",
        "**Cuda**\n",
        "\n",
        "$blocks\\ total=32$\n",
        "\n",
        "$block\\ dimension=32$\n",
        "\n",
        "$threads\\ total=32⋅32=1024$\n",
        "\n",
        "---\n",
        "\n",
        "**Image**\n",
        "\n",
        "$width=1920$\n",
        "\n",
        "$height=1280$\n",
        "\n",
        "---\n",
        "\n",
        "**Processing**\n",
        "\n",
        "$pixels\\ per\\ block=\\frac{width⋅height}{blocks\\ total}=76800$\n",
        "\n",
        "$pixels\\ per\\ thread=\\frac{pixels\\ per\\ block}{block\\ dimension}=2400$\n",
        "\n",
        "$thread\\ start\\ pixel = (thread\\ id + block\\ id ⋅ block\\ dimension)⋅pixels\\ per\\ thread$\n",
        "\n",
        "$thread\\ end\\ pixel = thread\\ start\\ pixel + pixels\\ per\\ thread$\n",
        "\n",
        "\n",
        "![device](./img/device.svg)\n",
        "![no-shared-mem](./img/no-shared-mem.svg)\n",
        "\n",
        "\n",
        "---\n",
        "---\n",
        "\n",
        "**Shared memory**\n",
        "\n",
        "\n",
        "---\n",
        "\n",
        "**Size of shared memory?**\n",
        "\n",
        "$halo=radius⋅width=7680$\n",
        "\n",
        "$pixels\\ to\\ load=\\frac{width⋅height}{blocks\\ total}+2⋅halo = 92160$\n",
        "\n",
        "---\n",
        "\n",
        "**How many pixels each thread loads?**\n",
        "\n",
        "$thread\\_loads=\\frac{pixels\\ to\\ load}{threads\\ per\\ block} = 2880$\n",
        "\n",
        "---\n",
        "\n",
        "**What are $start\\ load$ and $end\\ load$ position for each thread?**\n",
        "\n",
        "$start\\ load=thread\\ start\\ pixel - halo$\n",
        "\n",
        "$end\\ load=start\\ load+thread\\_loads$\n",
        "\n",
        "---\n",
        "\n",
        "**Sync!**\n",
        "\n",
        "Then each block has all data it needs and continues with filter.\n",
        "\n",
        "Following approach requires 280kB shared memory, but only 48kB is available, so it is abandoned. Single thread per pixel approach will be used.\n",
        "Also, CUDA compiler gives no warning if 280kB shared memory is allocated, he waits till developer ends writing code and then while accessing allocated memory gives warning.\n",
        "\n",
        "**Single thread per pixel:**\n",
        "![shared-mem](./img/shared-mem.svg)"
      ]
    },
    {
      "attachments": {},
      "cell_type": "markdown",
      "metadata": {
        "id": "xBe-tsFEWFdG"
      },
      "source": [
        "#### Code - GPU without shared memory"
      ]
    },
    {
      "cell_type": "code",
      "execution_count": null,
      "metadata": {
        "colab": {
          "base_uri": "https://localhost:8080/"
        },
        "id": "lgZfnqPzWI1S",
        "outputId": "69ab1cf9-2aeb-46c6-d00d-32fa7446a1fd"
      },
      "outputs": [
        {
          "name": "stdout",
          "output_type": "stream",
          "text": [
            "Writing gpu_no_shared_mem.h\n"
          ]
        }
      ],
      "source": [
        "%%writefile gpu_no_shared_mem.h\n",
        "#ifndef GPU_NO_SHARED_MEM\n",
        "#define GPU_NO_SHARED_MEM\n",
        "\n",
        "#ifdef __cplusplus\n",
        "extern \"C\" {\n",
        "#endif\n",
        "\n",
        "int gpu_no_shared_mem(BMP *bmp, unsigned int width, unsigned int height);\n",
        "\n",
        "#ifdef __cplusplus\n",
        "}\n",
        "#endif\n",
        "\n",
        "#endif // GPU_NO_SHARED_MEM"
      ]
    },
    {
      "cell_type": "code",
      "execution_count": null,
      "metadata": {
        "colab": {
          "base_uri": "https://localhost:8080/"
        },
        "id": "8jGjTut8WLK1",
        "outputId": "91b1cee1-1544-4f35-f830-873d3f8726d0"
      },
      "outputs": [
        {
          "name": "stdout",
          "output_type": "stream",
          "text": [
            "Writing gpu_no_shared_mem.cu\n"
          ]
        }
      ],
      "source": [
        "%%writefile gpu_no_shared_mem.cu\n",
        "#include <stdlib.h>\n",
        "#include <stdio.h>\n",
        "#include <time.h>\n",
        "#include \"cbmp.h\"\n",
        "#include \"gpu_no_shared_mem.h\"\n",
        "\n",
        "#define N (32 * 32)\n",
        "#define THREADS_PER_BLOCK 32\n",
        "\n",
        "#ifndef R\n",
        "#define R 4           // filter radius\n",
        "#endif\n",
        "\n",
        "__global__ void cuda_go(pixel *d_pixels, pixel *d_result_pixels, unsigned int width, unsigned int height)\n",
        "{\n",
        "    int index = threadIdx.x + blockIdx.x * blockDim.x;\n",
        "    int px_per_thread = (width * height) / N;\n",
        "    unsigned int current_pixel = index * px_per_thread,\n",
        "                 end_pixel = current_pixel + px_per_thread;\n",
        "\n",
        "    if (end_pixel > width * height)\n",
        "        end_pixel = width * height;\n",
        "\n",
        "    for (; current_pixel < end_pixel; current_pixel++)\n",
        "    {\n",
        "        unsigned int x = current_pixel % width; // column\n",
        "        unsigned int y = current_pixel / width; // row\n",
        "\n",
        "        unsigned int tr = 0, tg = 0, tb = 0; // temporary storage for accumulated RGB values\n",
        "        unsigned int pixel_counter = 0;      // counter of valid pixels\n",
        "\n",
        "        for (int i = -R; i <= R; i++)\n",
        "        {\n",
        "            for (int j = -R; j <= R; j++)\n",
        "            {\n",
        "                int temp_x = x + i;\n",
        "                int temp_y = y + j;\n",
        "\n",
        "                if (temp_x >= 0 && temp_y >= 0 && temp_x < width && temp_y < height)\n",
        "                {\n",
        "                    int index = temp_y * width + temp_x;\n",
        "                    tr += d_pixels[index].red;\n",
        "                    tg += d_pixels[index].green;\n",
        "                    tb += d_pixels[index].blue;\n",
        "\n",
        "                    pixel_counter++;\n",
        "                }\n",
        "            }\n",
        "        }\n",
        "\n",
        "        d_result_pixels[current_pixel].red = (unsigned char)(tr / pixel_counter)+0.5;\n",
        "        d_result_pixels[current_pixel].green = (unsigned char)(tg / pixel_counter)+0.5;\n",
        "        d_result_pixels[current_pixel].blue = (unsigned char)(tb / pixel_counter)+0.5;\n",
        "    }\n",
        "}\n",
        "\n",
        "int gpu_no_shared_mem(BMP *bmp, unsigned int width, unsigned int height)\n",
        "{\n",
        "\n",
        "    pixel *d_pixels, *d_result_pixels; // device copies\n",
        "    int size = width * height * sizeof(pixel);\n",
        "\n",
        "    // allocate memory for image pixels\n",
        "    cudaMalloc((void **)&d_pixels, size);\n",
        "\n",
        "    // allocate memory for resulting image pixels after filtering\n",
        "    cudaMalloc((void **)&d_result_pixels, size);\n",
        "\n",
        "    // copy pixel data\n",
        "    cudaMemcpy(d_pixels, bmp->pixels, size, cudaMemcpyHostToDevice);\n",
        "\n",
        "    // apply the filter\n",
        "    cuda_go<<<N / THREADS_PER_BLOCK, THREADS_PER_BLOCK>>>(d_pixels, d_result_pixels, width, height);\n",
        "\n",
        "    // copy the resulting image pixels after filtering\n",
        "    cudaMemcpy(bmp->pixels, d_result_pixels, size, cudaMemcpyDeviceToHost);\n",
        "\n",
        "    // free cuda memory\n",
        "    cudaFree(d_pixels);\n",
        "    cudaFree(d_result_pixels);\n",
        "\n",
        "    return 0;\n",
        "}"
      ]
    },
    {
      "attachments": {},
      "cell_type": "markdown",
      "metadata": {
        "id": "lUiR3fWz1ptS"
      },
      "source": [
        "#### Code - GPU with shared memory"
      ]
    },
    {
      "cell_type": "code",
      "execution_count": null,
      "metadata": {
        "colab": {
          "base_uri": "https://localhost:8080/"
        },
        "id": "OOA6HapY119R",
        "outputId": "d88dd9d1-86ca-405f-ce0d-238f885a3c1a"
      },
      "outputs": [
        {
          "name": "stdout",
          "output_type": "stream",
          "text": [
            "Writing gpu_with_shared_mem.h\n"
          ]
        }
      ],
      "source": [
        "%%writefile gpu_with_shared_mem.h\n",
        "#ifndef GPU_WITH_SHARED_MEM\n",
        "#define GPU_WITH_SHARED_MEM\n",
        "\n",
        "#ifdef __cplusplus\n",
        "extern \"C\" {\n",
        "#endif\n",
        "\n",
        "typedef struct pixel_data_rgb\n",
        "{\n",
        "    unsigned char red;\n",
        "    unsigned char green;\n",
        "    unsigned char blue;\n",
        "} Pixel;\n",
        "\n",
        "int gpu_with_shared_mem(BMP *bmp, unsigned int width, unsigned int height);\n",
        "\n",
        "#ifdef __cplusplus\n",
        "}\n",
        "#endif\n",
        "\n",
        "#endif // GPU_WITH_SHARED_MEM"
      ]
    },
    {
      "cell_type": "code",
      "execution_count": null,
      "metadata": {
        "colab": {
          "base_uri": "https://localhost:8080/"
        },
        "id": "ba45fmzWxrsJ",
        "outputId": "b45a1ffa-9de9-4920-adbe-25b00173d73b"
      },
      "outputs": [
        {
          "name": "stdout",
          "output_type": "stream",
          "text": [
            "Writing gpu_with_shared_mem.cu\n"
          ]
        }
      ],
      "source": [
        "%%writefile gpu_with_shared_mem.cu\n",
        "#include <stdlib.h>\n",
        "#include <stdio.h>\n",
        "#include \"cbmp.h\"\n",
        "#include \"gpu_with_shared_mem.h\"\n",
        "\n",
        "#ifndef R\n",
        "#define R 4           // filter radius\n",
        "#endif\n",
        "\n",
        "#define MAX_THREADS 32\n",
        "#define TILE_W (MAX_THREADS - (2 * R))\n",
        "#define TILE_H (MAX_THREADS - (2 * R))\n",
        "#define D (R * 2 + 1) // filter diameter\n",
        "#define S (D * D)     // filter size\n",
        "#define BLOCK_W (TILE_W + (2 * R))\n",
        "#define BLOCK_H (TILE_H + (2 * R))\n",
        "\n",
        "__global__ void d_filter(pixel *g_idata, pixel *g_odata, unsigned int width, unsigned int height)\n",
        "{\n",
        "    __shared__ Pixel smem[BLOCK_W * BLOCK_H];\n",
        "\n",
        "    // calculate pixel row and column inside image\n",
        "    int x = blockIdx.x * TILE_W + threadIdx.x - R; // -4 ... 24 ... 28, 20 ... 44 ... 48, ...\n",
        "    int y = blockIdx.y * TILE_H + threadIdx.y - R;\n",
        "\n",
        "    // skip the area outside image\n",
        "    if(x<0 || x>=width || y<0 || y>=height)\n",
        "      return;\n",
        "\n",
        "    unsigned int index = y * width + x;\n",
        "    unsigned int bindex = threadIdx.y * BLOCK_W + threadIdx.x;\n",
        "\n",
        "    // each thread copies its pixel of the block to shared memory\n",
        "    void *voodomagic = (g_idata + index);\n",
        "    smem[bindex] = *((Pixel *)voodomagic);\n",
        "    unsigned int valid_pixel_counter = 0;\n",
        "\n",
        "    __syncthreads();\n",
        "\n",
        "    // only threads inside the apron will write results\n",
        "    if ((threadIdx.x >= R) && (threadIdx.x < (BLOCK_W - R)) &&\n",
        "        (threadIdx.y >= R) && (threadIdx.y < (BLOCK_H - R)))\n",
        "    {\n",
        "        unsigned int sum_red = 0, sum_green = 0, sum_blue = 0;\n",
        "        for (int dy = -R; dy <= R; dy++)\n",
        "        {\n",
        "            for (int dx = -R; dx <= R; dx++)\n",
        "            {\n",
        "                int temp_x = x + dx;\n",
        "                int temp_y = y + dy;\n",
        "\n",
        "                if (temp_x >= 0 && temp_y >= 0 && temp_x < width && temp_y < height)\n",
        "                {\n",
        "\n",
        "                    int i = (threadIdx.y + dy) * BLOCK_W + (threadIdx.x + dx);\n",
        "                    sum_red += smem[i].red;\n",
        "                    sum_green += smem[i].green;\n",
        "                    sum_blue += smem[i].blue;\n",
        "\n",
        "                    valid_pixel_counter++;\n",
        "                }\n",
        "            }\n",
        "        }\n",
        "        g_odata[index].red = (unsigned char)(sum_red / valid_pixel_counter)+0.5;\n",
        "        g_odata[index].green = (unsigned char)(sum_green / valid_pixel_counter)+0.5;\n",
        "        g_odata[index].blue = (unsigned char)(sum_blue / valid_pixel_counter)+0.5;\n",
        "    }\n",
        "}\n",
        "\n",
        "int gpu_with_shared_mem(BMP *bmp, unsigned int width, unsigned int height)\n",
        "{\n",
        "\n",
        "    pixel *d_pixels, *d_result_pixels; // device copies\n",
        "    int size = width * height * sizeof(pixel);\n",
        "\n",
        "    // allocate memory for image pixels\n",
        "    cudaMalloc((void **)&d_pixels, size);\n",
        "\n",
        "    // allocate memory for resulting image pixels after filtering\n",
        "    cudaMalloc((void **)&d_result_pixels, size);\n",
        "\n",
        "    // copy pixel data\n",
        "    cudaMemcpy(d_pixels, bmp->pixels, size, cudaMemcpyHostToDevice);\n",
        "\n",
        "    dim3 grid((width + (TILE_W - 1)) / TILE_W, (height + (TILE_H - 1)) / TILE_H);\n",
        "    dim3 block(BLOCK_W, BLOCK_H);\n",
        "\n",
        "    // apply the filter\n",
        "    d_filter<<<grid, block>>>(d_pixels, d_result_pixels, width, height);\n",
        "\n",
        "    // copy the resulting image pixels after filtering\n",
        "    cudaMemcpy(bmp->pixels, d_result_pixels, size, cudaMemcpyDeviceToHost);\n",
        "\n",
        "    // free cuda memory\n",
        "    cudaFree(d_pixels);\n",
        "    cudaFree(d_result_pixels);\n",
        "\n",
        "    return 0;\n",
        "}"
      ]
    },
    {
      "attachments": {},
      "cell_type": "markdown",
      "metadata": {
        "id": "6h5uiIK42GMR"
      },
      "source": [
        "### Compile"
      ]
    },
    {
      "attachments": {},
      "cell_type": "markdown",
      "metadata": {
        "id": "Y--S0TB2ywKT"
      },
      "source": [
        "Specify the preprocessor arguments in compile command\n",
        "- Select version to compile, `-DVERSION=<0...2>`\n",
        "  - cpu_no_parallelization, `-DVERSION=0`\n",
        "  - gpu_no_shared_mem, `-DVERSION=1`\n",
        "  - gpu_with_shared_mem, `-DVERSION=2`\n",
        "  - if not specified, none filter will be applied\n",
        "- Select the filter radius, `-DR=<0...15>`\n",
        "    - **0**, no filter applied\n",
        "    - **14**, max supported value\n",
        "    - if not specified, default value is **4**"
      ]
    },
    {
      "cell_type": "code",
      "execution_count": null,
      "metadata": {
        "id": "H7GqvBoa0vuR"
      },
      "outputs": [],
      "source": [
        "!nvcc main.c cbmp.c cpu_no_parallelization.c gpu_no_shared_mem.cu gpu_with_shared_mem.cu -o cpu_no_parallelization -DVERSION=0 -DR=4"
      ]
    },
    {
      "cell_type": "code",
      "execution_count": null,
      "metadata": {
        "id": "urS6nJWa7y8q"
      },
      "outputs": [],
      "source": [
        "!nvcc main.c cbmp.c cpu_no_parallelization.c gpu_no_shared_mem.cu gpu_with_shared_mem.cu -o gpu_no_shared_mem -DVERSION=1 -DR=4"
      ]
    },
    {
      "cell_type": "code",
      "execution_count": null,
      "metadata": {
        "id": "-iZ5HN2q7yuk"
      },
      "outputs": [],
      "source": [
        "!nvcc main.c cbmp.c cpu_no_parallelization.c gpu_no_shared_mem.cu gpu_with_shared_mem.cu -o gpu_with_shared_mem -DVERSION=2 -DR=4"
      ]
    },
    {
      "attachments": {},
      "cell_type": "markdown",
      "metadata": {
        "id": "rp4RWw-VxsYc"
      },
      "source": [
        "### Execution"
      ]
    },
    {
      "cell_type": "code",
      "execution_count": null,
      "metadata": {
        "colab": {
          "base_uri": "https://localhost:8080/"
        },
        "id": "SQgUmzAm0xEn",
        "outputId": "d8010af6-68c4-48e6-953a-1a5a7f8592c8"
      },
      "outputs": [
        {
          "name": "stdout",
          "output_type": "stream",
          "text": [
            "Elapsed time:\t1.511311 seconds\n"
          ]
        }
      ],
      "source": [
        "!./cpu_no_parallelization image-pillow.bmp image-cpu_no_parallelization.bmp"
      ]
    },
    {
      "cell_type": "code",
      "execution_count": null,
      "metadata": {
        "colab": {
          "base_uri": "https://localhost:8080/"
        },
        "id": "wjzDXFlq8AMY",
        "outputId": "a4b9d633-1aad-4e17-a523-624f9672fdc9"
      },
      "outputs": [
        {
          "name": "stdout",
          "output_type": "stream",
          "text": [
            "Elapsed time:\t0.357728 seconds\n"
          ]
        }
      ],
      "source": [
        "!./gpu_no_shared_mem image-pillow.bmp image-gpu_no_shared_mem.bmp"
      ]
    },
    {
      "cell_type": "code",
      "execution_count": null,
      "metadata": {
        "colab": {
          "base_uri": "https://localhost:8080/"
        },
        "id": "e1kj3xEt7_t5",
        "outputId": "5dae5bf8-f9c5-4cc0-dcbd-fb605a53af20"
      },
      "outputs": [
        {
          "name": "stdout",
          "output_type": "stream",
          "text": [
            "Elapsed time:\t0.179787 seconds\n"
          ]
        }
      ],
      "source": [
        "!./gpu_with_shared_mem image-pillow.bmp image-gpu_with_shared_mem.bmp"
      ]
    },
    {
      "attachments": {},
      "cell_type": "markdown",
      "metadata": {
        "id": "mTA8T17c8Ptu"
      },
      "source": [
        "### Testing"
      ]
    },
    {
      "cell_type": "code",
      "execution_count": null,
      "metadata": {
        "colab": {
          "base_uri": "https://localhost:8080/"
        },
        "id": "r_Ot-_Q705_3",
        "outputId": "0e41e9ed-1b4c-4d60-fe2c-68816efcaefd"
      },
      "outputs": [
        {
          "name": "stdout",
          "output_type": "stream",
          "text": [
            "\u001b[32mMD5 verified.\u001b[0m\n"
          ]
        }
      ],
      "source": [
        "compare('image-cpu_no_parallelization.bmp','image-cpu_no_parallelization.bmp')"
      ]
    },
    {
      "cell_type": "code",
      "execution_count": null,
      "metadata": {
        "colab": {
          "base_uri": "https://localhost:8080/"
        },
        "id": "aTuoU6Uz8aiT",
        "outputId": "f0b0c33e-5991-4f9b-cb88-48d4d21a387a"
      },
      "outputs": [
        {
          "name": "stdout",
          "output_type": "stream",
          "text": [
            "\u001b[32mMD5 verified.\u001b[0m\n"
          ]
        }
      ],
      "source": [
        "compare('image-cpu_no_parallelization.bmp','image-gpu_no_shared_mem.bmp')"
      ]
    },
    {
      "cell_type": "code",
      "execution_count": null,
      "metadata": {
        "colab": {
          "base_uri": "https://localhost:8080/"
        },
        "id": "-ts3K85_jy0c",
        "outputId": "fed455d8-42ec-4e2e-869f-73f0ad73b677"
      },
      "outputs": [
        {
          "name": "stdout",
          "output_type": "stream",
          "text": [
            "\u001b[32mMD5 verified.\u001b[0m\n"
          ]
        }
      ],
      "source": [
        "compare('image-cpu_no_parallelization.bmp','image-gpu_with_shared_mem.bmp')"
      ]
    },
    {
      "attachments": {},
      "cell_type": "markdown",
      "metadata": {
        "id": "Aei5LbTcjwn8"
      },
      "source": [
        "### Troubleshooting"
      ]
    },
    {
      "cell_type": "code",
      "execution_count": null,
      "metadata": {
        "colab": {
          "base_uri": "https://localhost:8080/"
        },
        "id": "4sJo9iWp8a2-",
        "outputId": "951938ae-4d0d-4ea8-c5e3-0c67c6a74054"
      },
      "outputs": [
        {
          "name": "stdout",
          "output_type": "stream",
          "text": [
            "\u001b[31mMD5 verification failed!\u001b[0m\n"
          ]
        }
      ],
      "source": [
        "compare('image-cpu_no_parallelization.bmp','image-gpu_with_shared_mem.bmp')"
      ]
    },
    {
      "cell_type": "code",
      "execution_count": null,
      "metadata": {
        "colab": {
          "base_uri": "https://localhost:8080/"
        },
        "id": "jsIJhqMD9jQ2",
        "outputId": "0682fc37-bf43-45db-96c6-182a5594a924"
      },
      "outputs": [
        {
          "name": "stdout",
          "output_type": "stream",
          "text": [
            "image-cpu_no_parallelization.bmp image-gpu_with_shared_mem.bmp differ: byte 7367098, line 59413 is 214 M-^L 215 M-^M\n"
          ]
        }
      ],
      "source": [
        "!cmp -b image-cpu_no_parallelization.bmp image-gpu_with_shared_mem.bmp"
      ]
    },
    {
      "cell_type": "code",
      "execution_count": null,
      "metadata": {
        "colab": {
          "base_uri": "https://localhost:8080/"
        },
        "id": "mQceGUL9-Lhs",
        "outputId": "51e73be3-0bb2-498d-eb71-de65dfaee1b0"
      },
      "outputs": [
        {
          "name": "stdout",
          "output_type": "stream",
          "text": [
            "00706a01  80 70 9b 80 70 9b 80 6f  9a 81 6f 9a 80 6e 99 80  |.p..p..o..o..n..|\n",
            "00706a11  6d 99 7f 6c                                       |m..l|\n",
            "00706a15\n"
          ]
        }
      ],
      "source": [
        "!hexdump -C -s 7367169 -n 20 image-cpu_no_parallelization.bmp"
      ]
    },
    {
      "cell_type": "code",
      "execution_count": null,
      "metadata": {
        "colab": {
          "base_uri": "https://localhost:8080/"
        },
        "id": "J50-pIqO9654",
        "outputId": "581825ae-a8ec-4215-e347-20adf8a50472"
      },
      "outputs": [
        {
          "name": "stdout",
          "output_type": "stream",
          "text": [
            "00706a01  80 6f 9b 81 71 9c 81 70  9b 80 6e 99 7f 6d 99 80  |.o..q..p..n..m..|\n",
            "00706a11  6d 99 7e 6b                                       |m.~k|\n",
            "00706a15\n"
          ]
        }
      ],
      "source": [
        "!hexdump -C -s 7367169 -n 20 image-gpu_with_shared_mem.bmp"
      ]
    },
    {
      "attachments": {},
      "cell_type": "markdown",
      "metadata": {
        "id": "7C2cyYEFj27L"
      },
      "source": [
        "pixel data >>> header -> all data = pixel data\n",
        "\n",
        "7367095 B -> 1841773.75 px -> 959 row + 493 px -> x = 493, y = 959\n",
        "\n",
        "\n",
        "- Check for alpha value once Colab starts working, not copied during GPU processing.\n",
        "- Check grid dimensions"
      ]
    },
    {
      "attachments": {},
      "cell_type": "markdown",
      "metadata": {
        "id": "Tn4t3NB_OBA3"
      },
      "source": [
        "## Perfomance"
      ]
    },
    {
      "attachments": {},
      "cell_type": "markdown",
      "metadata": {
        "id": "pUpeYos2BbfY"
      },
      "source": [
        "### Collecting data\n",
        "- Run each version with all possible filter values.\n",
        "- After each run verify result and store the output time.\n",
        "\n",
        "> 💡 Author is aware that single run is irrelevant, code should be executed at least hundreds of times in order to achieve relevant measurements. That detail can be easily implemented, but it would require GPU resources."
      ]
    },
    {
      "cell_type": "code",
      "execution_count": null,
      "metadata": {
        "id": "DRJMSzqFTLxv"
      },
      "outputs": [],
      "source": [
        "import subprocess\n",
        "import matplotlib.pyplot as plt\n",
        "import pandas as pd\n",
        "import numpy as np\n",
        "from IPython.display import display\n",
        "import re"
      ]
    },
    {
      "cell_type": "code",
      "execution_count": null,
      "metadata": {
        "colab": {
          "base_uri": "https://localhost:8080/"
        },
        "id": "7PBINVHNSV1a",
        "outputId": "ccefc929-7caa-4c87-cb39-177245f1fe68"
      },
      "outputs": [
        {
          "name": "stdout",
          "output_type": "stream",
          "text": [
            "nvcc main.c cbmp.c cpu_no_parallelization.c gpu_no_shared_mem.cu gpu_with_shared_mem.cu -o cpu_no_parallelization_r-0 -DVERSION=0 -DR=0\n",
            "./cpu_no_parallelization_r-0 image-pillow.bmp image-cpu_no_parallelization_r-0.bmp\n",
            "\u001b[32mMD5 verified.\u001b[0m\n",
            "nvcc main.c cbmp.c cpu_no_parallelization.c gpu_no_shared_mem.cu gpu_with_shared_mem.cu -o cpu_no_parallelization_r-1 -DVERSION=0 -DR=1\n",
            "./cpu_no_parallelization_r-1 image-pillow.bmp image-cpu_no_parallelization_r-1.bmp\n",
            "\u001b[32mMD5 verified.\u001b[0m\n",
            "nvcc main.c cbmp.c cpu_no_parallelization.c gpu_no_shared_mem.cu gpu_with_shared_mem.cu -o cpu_no_parallelization_r-2 -DVERSION=0 -DR=2\n",
            "./cpu_no_parallelization_r-2 image-pillow.bmp image-cpu_no_parallelization_r-2.bmp\n",
            "\u001b[32mMD5 verified.\u001b[0m\n",
            "nvcc main.c cbmp.c cpu_no_parallelization.c gpu_no_shared_mem.cu gpu_with_shared_mem.cu -o cpu_no_parallelization_r-3 -DVERSION=0 -DR=3\n",
            "./cpu_no_parallelization_r-3 image-pillow.bmp image-cpu_no_parallelization_r-3.bmp\n",
            "\u001b[32mMD5 verified.\u001b[0m\n",
            "nvcc main.c cbmp.c cpu_no_parallelization.c gpu_no_shared_mem.cu gpu_with_shared_mem.cu -o cpu_no_parallelization_r-4 -DVERSION=0 -DR=4\n",
            "./cpu_no_parallelization_r-4 image-pillow.bmp image-cpu_no_parallelization_r-4.bmp\n",
            "\u001b[32mMD5 verified.\u001b[0m\n",
            "nvcc main.c cbmp.c cpu_no_parallelization.c gpu_no_shared_mem.cu gpu_with_shared_mem.cu -o cpu_no_parallelization_r-5 -DVERSION=0 -DR=5\n",
            "./cpu_no_parallelization_r-5 image-pillow.bmp image-cpu_no_parallelization_r-5.bmp\n",
            "\u001b[32mMD5 verified.\u001b[0m\n",
            "nvcc main.c cbmp.c cpu_no_parallelization.c gpu_no_shared_mem.cu gpu_with_shared_mem.cu -o cpu_no_parallelization_r-6 -DVERSION=0 -DR=6\n",
            "./cpu_no_parallelization_r-6 image-pillow.bmp image-cpu_no_parallelization_r-6.bmp\n",
            "\u001b[32mMD5 verified.\u001b[0m\n",
            "nvcc main.c cbmp.c cpu_no_parallelization.c gpu_no_shared_mem.cu gpu_with_shared_mem.cu -o cpu_no_parallelization_r-7 -DVERSION=0 -DR=7\n",
            "./cpu_no_parallelization_r-7 image-pillow.bmp image-cpu_no_parallelization_r-7.bmp\n",
            "\u001b[32mMD5 verified.\u001b[0m\n",
            "nvcc main.c cbmp.c cpu_no_parallelization.c gpu_no_shared_mem.cu gpu_with_shared_mem.cu -o cpu_no_parallelization_r-8 -DVERSION=0 -DR=8\n",
            "./cpu_no_parallelization_r-8 image-pillow.bmp image-cpu_no_parallelization_r-8.bmp\n",
            "\u001b[32mMD5 verified.\u001b[0m\n",
            "nvcc main.c cbmp.c cpu_no_parallelization.c gpu_no_shared_mem.cu gpu_with_shared_mem.cu -o cpu_no_parallelization_r-9 -DVERSION=0 -DR=9\n",
            "./cpu_no_parallelization_r-9 image-pillow.bmp image-cpu_no_parallelization_r-9.bmp\n",
            "\u001b[32mMD5 verified.\u001b[0m\n",
            "nvcc main.c cbmp.c cpu_no_parallelization.c gpu_no_shared_mem.cu gpu_with_shared_mem.cu -o cpu_no_parallelization_r-10 -DVERSION=0 -DR=10\n",
            "./cpu_no_parallelization_r-10 image-pillow.bmp image-cpu_no_parallelization_r-10.bmp\n",
            "\u001b[32mMD5 verified.\u001b[0m\n",
            "nvcc main.c cbmp.c cpu_no_parallelization.c gpu_no_shared_mem.cu gpu_with_shared_mem.cu -o cpu_no_parallelization_r-11 -DVERSION=0 -DR=11\n",
            "./cpu_no_parallelization_r-11 image-pillow.bmp image-cpu_no_parallelization_r-11.bmp\n",
            "\u001b[32mMD5 verified.\u001b[0m\n",
            "nvcc main.c cbmp.c cpu_no_parallelization.c gpu_no_shared_mem.cu gpu_with_shared_mem.cu -o cpu_no_parallelization_r-12 -DVERSION=0 -DR=12\n",
            "./cpu_no_parallelization_r-12 image-pillow.bmp image-cpu_no_parallelization_r-12.bmp\n",
            "\u001b[32mMD5 verified.\u001b[0m\n",
            "nvcc main.c cbmp.c cpu_no_parallelization.c gpu_no_shared_mem.cu gpu_with_shared_mem.cu -o cpu_no_parallelization_r-13 -DVERSION=0 -DR=13\n",
            "./cpu_no_parallelization_r-13 image-pillow.bmp image-cpu_no_parallelization_r-13.bmp\n",
            "\u001b[32mMD5 verified.\u001b[0m\n",
            "nvcc main.c cbmp.c cpu_no_parallelization.c gpu_no_shared_mem.cu gpu_with_shared_mem.cu -o cpu_no_parallelization_r-14 -DVERSION=0 -DR=14\n",
            "./cpu_no_parallelization_r-14 image-pillow.bmp image-cpu_no_parallelization_r-14.bmp\n",
            "\u001b[32mMD5 verified.\u001b[0m\n",
            "nvcc main.c cbmp.c cpu_no_parallelization.c gpu_no_shared_mem.cu gpu_with_shared_mem.cu -o gpu_no_shared_mem_r-0 -DVERSION=1 -DR=0\n",
            "./gpu_no_shared_mem_r-0 image-pillow.bmp image-gpu_no_shared_mem_r-0.bmp\n",
            "\u001b[32mMD5 verified.\u001b[0m\n",
            "nvcc main.c cbmp.c cpu_no_parallelization.c gpu_no_shared_mem.cu gpu_with_shared_mem.cu -o gpu_no_shared_mem_r-1 -DVERSION=1 -DR=1\n",
            "./gpu_no_shared_mem_r-1 image-pillow.bmp image-gpu_no_shared_mem_r-1.bmp\n",
            "\u001b[32mMD5 verified.\u001b[0m\n",
            "nvcc main.c cbmp.c cpu_no_parallelization.c gpu_no_shared_mem.cu gpu_with_shared_mem.cu -o gpu_no_shared_mem_r-2 -DVERSION=1 -DR=2\n",
            "./gpu_no_shared_mem_r-2 image-pillow.bmp image-gpu_no_shared_mem_r-2.bmp\n",
            "\u001b[32mMD5 verified.\u001b[0m\n",
            "nvcc main.c cbmp.c cpu_no_parallelization.c gpu_no_shared_mem.cu gpu_with_shared_mem.cu -o gpu_no_shared_mem_r-3 -DVERSION=1 -DR=3\n",
            "./gpu_no_shared_mem_r-3 image-pillow.bmp image-gpu_no_shared_mem_r-3.bmp\n",
            "\u001b[32mMD5 verified.\u001b[0m\n",
            "nvcc main.c cbmp.c cpu_no_parallelization.c gpu_no_shared_mem.cu gpu_with_shared_mem.cu -o gpu_no_shared_mem_r-4 -DVERSION=1 -DR=4\n",
            "./gpu_no_shared_mem_r-4 image-pillow.bmp image-gpu_no_shared_mem_r-4.bmp\n",
            "\u001b[32mMD5 verified.\u001b[0m\n",
            "nvcc main.c cbmp.c cpu_no_parallelization.c gpu_no_shared_mem.cu gpu_with_shared_mem.cu -o gpu_no_shared_mem_r-5 -DVERSION=1 -DR=5\n",
            "./gpu_no_shared_mem_r-5 image-pillow.bmp image-gpu_no_shared_mem_r-5.bmp\n",
            "\u001b[32mMD5 verified.\u001b[0m\n",
            "nvcc main.c cbmp.c cpu_no_parallelization.c gpu_no_shared_mem.cu gpu_with_shared_mem.cu -o gpu_no_shared_mem_r-6 -DVERSION=1 -DR=6\n",
            "./gpu_no_shared_mem_r-6 image-pillow.bmp image-gpu_no_shared_mem_r-6.bmp\n",
            "\u001b[32mMD5 verified.\u001b[0m\n",
            "nvcc main.c cbmp.c cpu_no_parallelization.c gpu_no_shared_mem.cu gpu_with_shared_mem.cu -o gpu_no_shared_mem_r-7 -DVERSION=1 -DR=7\n",
            "./gpu_no_shared_mem_r-7 image-pillow.bmp image-gpu_no_shared_mem_r-7.bmp\n",
            "\u001b[32mMD5 verified.\u001b[0m\n",
            "nvcc main.c cbmp.c cpu_no_parallelization.c gpu_no_shared_mem.cu gpu_with_shared_mem.cu -o gpu_no_shared_mem_r-8 -DVERSION=1 -DR=8\n",
            "./gpu_no_shared_mem_r-8 image-pillow.bmp image-gpu_no_shared_mem_r-8.bmp\n",
            "\u001b[32mMD5 verified.\u001b[0m\n",
            "nvcc main.c cbmp.c cpu_no_parallelization.c gpu_no_shared_mem.cu gpu_with_shared_mem.cu -o gpu_no_shared_mem_r-9 -DVERSION=1 -DR=9\n",
            "./gpu_no_shared_mem_r-9 image-pillow.bmp image-gpu_no_shared_mem_r-9.bmp\n",
            "\u001b[32mMD5 verified.\u001b[0m\n",
            "nvcc main.c cbmp.c cpu_no_parallelization.c gpu_no_shared_mem.cu gpu_with_shared_mem.cu -o gpu_no_shared_mem_r-10 -DVERSION=1 -DR=10\n",
            "./gpu_no_shared_mem_r-10 image-pillow.bmp image-gpu_no_shared_mem_r-10.bmp\n",
            "\u001b[32mMD5 verified.\u001b[0m\n",
            "nvcc main.c cbmp.c cpu_no_parallelization.c gpu_no_shared_mem.cu gpu_with_shared_mem.cu -o gpu_no_shared_mem_r-11 -DVERSION=1 -DR=11\n",
            "./gpu_no_shared_mem_r-11 image-pillow.bmp image-gpu_no_shared_mem_r-11.bmp\n",
            "\u001b[32mMD5 verified.\u001b[0m\n",
            "nvcc main.c cbmp.c cpu_no_parallelization.c gpu_no_shared_mem.cu gpu_with_shared_mem.cu -o gpu_no_shared_mem_r-12 -DVERSION=1 -DR=12\n",
            "./gpu_no_shared_mem_r-12 image-pillow.bmp image-gpu_no_shared_mem_r-12.bmp\n",
            "\u001b[32mMD5 verified.\u001b[0m\n",
            "nvcc main.c cbmp.c cpu_no_parallelization.c gpu_no_shared_mem.cu gpu_with_shared_mem.cu -o gpu_no_shared_mem_r-13 -DVERSION=1 -DR=13\n",
            "./gpu_no_shared_mem_r-13 image-pillow.bmp image-gpu_no_shared_mem_r-13.bmp\n",
            "\u001b[32mMD5 verified.\u001b[0m\n",
            "nvcc main.c cbmp.c cpu_no_parallelization.c gpu_no_shared_mem.cu gpu_with_shared_mem.cu -o gpu_no_shared_mem_r-14 -DVERSION=1 -DR=14\n",
            "./gpu_no_shared_mem_r-14 image-pillow.bmp image-gpu_no_shared_mem_r-14.bmp\n",
            "\u001b[32mMD5 verified.\u001b[0m\n",
            "nvcc main.c cbmp.c cpu_no_parallelization.c gpu_no_shared_mem.cu gpu_with_shared_mem.cu -o gpu_with_shared_mem_r-0 -DVERSION=2 -DR=0\n",
            "./gpu_with_shared_mem_r-0 image-pillow.bmp image-gpu_with_shared_mem_r-0.bmp\n",
            "\u001b[32mMD5 verified.\u001b[0m\n",
            "nvcc main.c cbmp.c cpu_no_parallelization.c gpu_no_shared_mem.cu gpu_with_shared_mem.cu -o gpu_with_shared_mem_r-1 -DVERSION=2 -DR=1\n",
            "./gpu_with_shared_mem_r-1 image-pillow.bmp image-gpu_with_shared_mem_r-1.bmp\n",
            "\u001b[32mMD5 verified.\u001b[0m\n",
            "nvcc main.c cbmp.c cpu_no_parallelization.c gpu_no_shared_mem.cu gpu_with_shared_mem.cu -o gpu_with_shared_mem_r-2 -DVERSION=2 -DR=2\n",
            "./gpu_with_shared_mem_r-2 image-pillow.bmp image-gpu_with_shared_mem_r-2.bmp\n",
            "\u001b[32mMD5 verified.\u001b[0m\n",
            "nvcc main.c cbmp.c cpu_no_parallelization.c gpu_no_shared_mem.cu gpu_with_shared_mem.cu -o gpu_with_shared_mem_r-3 -DVERSION=2 -DR=3\n",
            "./gpu_with_shared_mem_r-3 image-pillow.bmp image-gpu_with_shared_mem_r-3.bmp\n",
            "\u001b[32mMD5 verified.\u001b[0m\n",
            "nvcc main.c cbmp.c cpu_no_parallelization.c gpu_no_shared_mem.cu gpu_with_shared_mem.cu -o gpu_with_shared_mem_r-4 -DVERSION=2 -DR=4\n",
            "./gpu_with_shared_mem_r-4 image-pillow.bmp image-gpu_with_shared_mem_r-4.bmp\n",
            "\u001b[32mMD5 verified.\u001b[0m\n",
            "nvcc main.c cbmp.c cpu_no_parallelization.c gpu_no_shared_mem.cu gpu_with_shared_mem.cu -o gpu_with_shared_mem_r-5 -DVERSION=2 -DR=5\n",
            "./gpu_with_shared_mem_r-5 image-pillow.bmp image-gpu_with_shared_mem_r-5.bmp\n",
            "\u001b[32mMD5 verified.\u001b[0m\n",
            "nvcc main.c cbmp.c cpu_no_parallelization.c gpu_no_shared_mem.cu gpu_with_shared_mem.cu -o gpu_with_shared_mem_r-6 -DVERSION=2 -DR=6\n",
            "./gpu_with_shared_mem_r-6 image-pillow.bmp image-gpu_with_shared_mem_r-6.bmp\n",
            "\u001b[32mMD5 verified.\u001b[0m\n",
            "nvcc main.c cbmp.c cpu_no_parallelization.c gpu_no_shared_mem.cu gpu_with_shared_mem.cu -o gpu_with_shared_mem_r-7 -DVERSION=2 -DR=7\n",
            "./gpu_with_shared_mem_r-7 image-pillow.bmp image-gpu_with_shared_mem_r-7.bmp\n",
            "\u001b[32mMD5 verified.\u001b[0m\n",
            "nvcc main.c cbmp.c cpu_no_parallelization.c gpu_no_shared_mem.cu gpu_with_shared_mem.cu -o gpu_with_shared_mem_r-8 -DVERSION=2 -DR=8\n",
            "./gpu_with_shared_mem_r-8 image-pillow.bmp image-gpu_with_shared_mem_r-8.bmp\n",
            "\u001b[32mMD5 verified.\u001b[0m\n",
            "nvcc main.c cbmp.c cpu_no_parallelization.c gpu_no_shared_mem.cu gpu_with_shared_mem.cu -o gpu_with_shared_mem_r-9 -DVERSION=2 -DR=9\n",
            "./gpu_with_shared_mem_r-9 image-pillow.bmp image-gpu_with_shared_mem_r-9.bmp\n",
            "\u001b[32mMD5 verified.\u001b[0m\n",
            "nvcc main.c cbmp.c cpu_no_parallelization.c gpu_no_shared_mem.cu gpu_with_shared_mem.cu -o gpu_with_shared_mem_r-10 -DVERSION=2 -DR=10\n",
            "./gpu_with_shared_mem_r-10 image-pillow.bmp image-gpu_with_shared_mem_r-10.bmp\n",
            "\u001b[32mMD5 verified.\u001b[0m\n",
            "nvcc main.c cbmp.c cpu_no_parallelization.c gpu_no_shared_mem.cu gpu_with_shared_mem.cu -o gpu_with_shared_mem_r-11 -DVERSION=2 -DR=11\n",
            "./gpu_with_shared_mem_r-11 image-pillow.bmp image-gpu_with_shared_mem_r-11.bmp\n",
            "\u001b[32mMD5 verified.\u001b[0m\n",
            "nvcc main.c cbmp.c cpu_no_parallelization.c gpu_no_shared_mem.cu gpu_with_shared_mem.cu -o gpu_with_shared_mem_r-12 -DVERSION=2 -DR=12\n",
            "./gpu_with_shared_mem_r-12 image-pillow.bmp image-gpu_with_shared_mem_r-12.bmp\n",
            "\u001b[32mMD5 verified.\u001b[0m\n",
            "nvcc main.c cbmp.c cpu_no_parallelization.c gpu_no_shared_mem.cu gpu_with_shared_mem.cu -o gpu_with_shared_mem_r-13 -DVERSION=2 -DR=13\n",
            "./gpu_with_shared_mem_r-13 image-pillow.bmp image-gpu_with_shared_mem_r-13.bmp\n",
            "\u001b[32mMD5 verified.\u001b[0m\n",
            "nvcc main.c cbmp.c cpu_no_parallelization.c gpu_no_shared_mem.cu gpu_with_shared_mem.cu -o gpu_with_shared_mem_r-14 -DVERSION=2 -DR=14\n",
            "./gpu_with_shared_mem_r-14 image-pillow.bmp image-gpu_with_shared_mem_r-14.bmp\n",
            "\u001b[32mMD5 verified.\u001b[0m\n"
          ]
        }
      ],
      "source": [
        "max_radius = 14\n",
        "default_image = 'image-pillow.bmp'\n",
        "\n",
        "test_filter_version = 'cpu_no_parallelization'\n",
        "versions = ('cpu_no_parallelization', 'gpu_no_shared_mem', 'gpu_with_shared_mem')\n",
        "\n",
        "df=pd.DataFrame(columns=['version', 'radius','elapsed_time'])\n",
        "\n",
        "for idv, v in enumerate(versions):\n",
        "  for r in range(0,max_radius+1):\n",
        "\n",
        "    compile_command=\\\n",
        "    f'nvcc main.c cbmp.c cpu_no_parallelization.c gpu_no_shared_mem.cu gpu_with_shared_mem.cu -o {v}_r-{r} -DVERSION={idv} -DR={r}'\n",
        "    print(compile_command)\n",
        "    process = subprocess.Popen(compile_command, stdout=subprocess.PIPE, stderr=subprocess.PIPE, shell=True)\n",
        "    output, error = process.communicate()\n",
        "\n",
        "    execute_command = f\"./{v}_r-{r} {default_image} image-{v}_r-{r}.bmp\"\n",
        "    print(execute_command)\n",
        "    process = subprocess.Popen(execute_command, stdout=subprocess.PIPE, stderr=subprocess.PIPE, shell=True)\n",
        "    output, error = process.communicate()\n",
        "\n",
        "    try:\n",
        "      time_elapsed = float(re.findall(r\"[-+]?(?:\\d*\\.*\\d+)\", output.decode('utf-8'))[0])\n",
        "      compare(f'image-{test_filter_version}_r-{r}.bmp',f'image-{v}_r-{r}.bmp')\n",
        "      df.loc[len(df.index)] = [v, r, time_elapsed]\n",
        "    except Exception:\n",
        "      print(f\"\\x1B[31mExecution failed\\x1B[0m\")"
      ]
    },
    {
      "cell_type": "code",
      "execution_count": null,
      "metadata": {
        "colab": {
          "base_uri": "https://localhost:8080/",
          "height": 1000
        },
        "id": "iks53BPqS2Yb",
        "outputId": "7937a246-ee58-43e5-85aa-50bba4824c8b"
      },
      "outputs": [
        {
          "data": {
            "text/html": [
              "\n",
              "  <div id=\"df-b815d25f-3abb-452b-b1f9-7fb87c8ee9f8\">\n",
              "    <div class=\"colab-df-container\">\n",
              "      <div>\n",
              "<style scoped>\n",
              "    .dataframe tbody tr th:only-of-type {\n",
              "        vertical-align: middle;\n",
              "    }\n",
              "\n",
              "    .dataframe tbody tr th {\n",
              "        vertical-align: top;\n",
              "    }\n",
              "\n",
              "    .dataframe thead th {\n",
              "        text-align: right;\n",
              "    }\n",
              "</style>\n",
              "<table border=\"1\" class=\"dataframe\">\n",
              "  <thead>\n",
              "    <tr style=\"text-align: right;\">\n",
              "      <th></th>\n",
              "      <th>version</th>\n",
              "      <th>radius</th>\n",
              "      <th>elapsed_time</th>\n",
              "    </tr>\n",
              "  </thead>\n",
              "  <tbody>\n",
              "    <tr>\n",
              "      <th>0</th>\n",
              "      <td>cpu_no_parallelization</td>\n",
              "      <td>0</td>\n",
              "      <td>0.098292</td>\n",
              "    </tr>\n",
              "    <tr>\n",
              "      <th>1</th>\n",
              "      <td>cpu_no_parallelization</td>\n",
              "      <td>1</td>\n",
              "      <td>0.210398</td>\n",
              "    </tr>\n",
              "    <tr>\n",
              "      <th>2</th>\n",
              "      <td>cpu_no_parallelization</td>\n",
              "      <td>2</td>\n",
              "      <td>0.495293</td>\n",
              "    </tr>\n",
              "    <tr>\n",
              "      <th>3</th>\n",
              "      <td>cpu_no_parallelization</td>\n",
              "      <td>3</td>\n",
              "      <td>0.920479</td>\n",
              "    </tr>\n",
              "    <tr>\n",
              "      <th>4</th>\n",
              "      <td>cpu_no_parallelization</td>\n",
              "      <td>4</td>\n",
              "      <td>1.499568</td>\n",
              "    </tr>\n",
              "    <tr>\n",
              "      <th>5</th>\n",
              "      <td>cpu_no_parallelization</td>\n",
              "      <td>5</td>\n",
              "      <td>2.835988</td>\n",
              "    </tr>\n",
              "    <tr>\n",
              "      <th>6</th>\n",
              "      <td>cpu_no_parallelization</td>\n",
              "      <td>6</td>\n",
              "      <td>3.083325</td>\n",
              "    </tr>\n",
              "    <tr>\n",
              "      <th>7</th>\n",
              "      <td>cpu_no_parallelization</td>\n",
              "      <td>7</td>\n",
              "      <td>5.074914</td>\n",
              "    </tr>\n",
              "    <tr>\n",
              "      <th>8</th>\n",
              "      <td>cpu_no_parallelization</td>\n",
              "      <td>8</td>\n",
              "      <td>5.262189</td>\n",
              "    </tr>\n",
              "    <tr>\n",
              "      <th>9</th>\n",
              "      <td>cpu_no_parallelization</td>\n",
              "      <td>9</td>\n",
              "      <td>7.732168</td>\n",
              "    </tr>\n",
              "    <tr>\n",
              "      <th>10</th>\n",
              "      <td>cpu_no_parallelization</td>\n",
              "      <td>10</td>\n",
              "      <td>10.004856</td>\n",
              "    </tr>\n",
              "    <tr>\n",
              "      <th>11</th>\n",
              "      <td>cpu_no_parallelization</td>\n",
              "      <td>11</td>\n",
              "      <td>10.507836</td>\n",
              "    </tr>\n",
              "    <tr>\n",
              "      <th>12</th>\n",
              "      <td>cpu_no_parallelization</td>\n",
              "      <td>12</td>\n",
              "      <td>12.136350</td>\n",
              "    </tr>\n",
              "    <tr>\n",
              "      <th>13</th>\n",
              "      <td>cpu_no_parallelization</td>\n",
              "      <td>13</td>\n",
              "      <td>13.973446</td>\n",
              "    </tr>\n",
              "    <tr>\n",
              "      <th>14</th>\n",
              "      <td>cpu_no_parallelization</td>\n",
              "      <td>14</td>\n",
              "      <td>16.978888</td>\n",
              "    </tr>\n",
              "    <tr>\n",
              "      <th>15</th>\n",
              "      <td>gpu_no_shared_mem</td>\n",
              "      <td>0</td>\n",
              "      <td>0.188816</td>\n",
              "    </tr>\n",
              "    <tr>\n",
              "      <th>16</th>\n",
              "      <td>gpu_no_shared_mem</td>\n",
              "      <td>1</td>\n",
              "      <td>0.184115</td>\n",
              "    </tr>\n",
              "    <tr>\n",
              "      <th>17</th>\n",
              "      <td>gpu_no_shared_mem</td>\n",
              "      <td>2</td>\n",
              "      <td>0.208423</td>\n",
              "    </tr>\n",
              "    <tr>\n",
              "      <th>18</th>\n",
              "      <td>gpu_no_shared_mem</td>\n",
              "      <td>3</td>\n",
              "      <td>0.226843</td>\n",
              "    </tr>\n",
              "    <tr>\n",
              "      <th>19</th>\n",
              "      <td>gpu_no_shared_mem</td>\n",
              "      <td>4</td>\n",
              "      <td>0.278988</td>\n",
              "    </tr>\n",
              "    <tr>\n",
              "      <th>20</th>\n",
              "      <td>gpu_no_shared_mem</td>\n",
              "      <td>5</td>\n",
              "      <td>0.392922</td>\n",
              "    </tr>\n",
              "    <tr>\n",
              "      <th>21</th>\n",
              "      <td>gpu_no_shared_mem</td>\n",
              "      <td>6</td>\n",
              "      <td>0.409024</td>\n",
              "    </tr>\n",
              "    <tr>\n",
              "      <th>22</th>\n",
              "      <td>gpu_no_shared_mem</td>\n",
              "      <td>7</td>\n",
              "      <td>0.475272</td>\n",
              "    </tr>\n",
              "    <tr>\n",
              "      <th>23</th>\n",
              "      <td>gpu_no_shared_mem</td>\n",
              "      <td>8</td>\n",
              "      <td>0.519737</td>\n",
              "    </tr>\n",
              "    <tr>\n",
              "      <th>24</th>\n",
              "      <td>gpu_no_shared_mem</td>\n",
              "      <td>9</td>\n",
              "      <td>0.554831</td>\n",
              "    </tr>\n",
              "    <tr>\n",
              "      <th>25</th>\n",
              "      <td>gpu_no_shared_mem</td>\n",
              "      <td>10</td>\n",
              "      <td>0.637690</td>\n",
              "    </tr>\n",
              "    <tr>\n",
              "      <th>26</th>\n",
              "      <td>gpu_no_shared_mem</td>\n",
              "      <td>11</td>\n",
              "      <td>0.620965</td>\n",
              "    </tr>\n",
              "    <tr>\n",
              "      <th>27</th>\n",
              "      <td>gpu_no_shared_mem</td>\n",
              "      <td>12</td>\n",
              "      <td>0.564895</td>\n",
              "    </tr>\n",
              "    <tr>\n",
              "      <th>28</th>\n",
              "      <td>gpu_no_shared_mem</td>\n",
              "      <td>13</td>\n",
              "      <td>0.682980</td>\n",
              "    </tr>\n",
              "    <tr>\n",
              "      <th>29</th>\n",
              "      <td>gpu_no_shared_mem</td>\n",
              "      <td>14</td>\n",
              "      <td>0.725979</td>\n",
              "    </tr>\n",
              "    <tr>\n",
              "      <th>30</th>\n",
              "      <td>gpu_with_shared_mem</td>\n",
              "      <td>0</td>\n",
              "      <td>0.198353</td>\n",
              "    </tr>\n",
              "    <tr>\n",
              "      <th>31</th>\n",
              "      <td>gpu_with_shared_mem</td>\n",
              "      <td>1</td>\n",
              "      <td>0.189500</td>\n",
              "    </tr>\n",
              "    <tr>\n",
              "      <th>32</th>\n",
              "      <td>gpu_with_shared_mem</td>\n",
              "      <td>2</td>\n",
              "      <td>0.189955</td>\n",
              "    </tr>\n",
              "    <tr>\n",
              "      <th>33</th>\n",
              "      <td>gpu_with_shared_mem</td>\n",
              "      <td>3</td>\n",
              "      <td>0.182470</td>\n",
              "    </tr>\n",
              "    <tr>\n",
              "      <th>34</th>\n",
              "      <td>gpu_with_shared_mem</td>\n",
              "      <td>4</td>\n",
              "      <td>0.178595</td>\n",
              "    </tr>\n",
              "    <tr>\n",
              "      <th>35</th>\n",
              "      <td>gpu_with_shared_mem</td>\n",
              "      <td>5</td>\n",
              "      <td>0.183754</td>\n",
              "    </tr>\n",
              "    <tr>\n",
              "      <th>36</th>\n",
              "      <td>gpu_with_shared_mem</td>\n",
              "      <td>6</td>\n",
              "      <td>0.225806</td>\n",
              "    </tr>\n",
              "    <tr>\n",
              "      <th>37</th>\n",
              "      <td>gpu_with_shared_mem</td>\n",
              "      <td>7</td>\n",
              "      <td>0.195941</td>\n",
              "    </tr>\n",
              "    <tr>\n",
              "      <th>38</th>\n",
              "      <td>gpu_with_shared_mem</td>\n",
              "      <td>8</td>\n",
              "      <td>0.200859</td>\n",
              "    </tr>\n",
              "    <tr>\n",
              "      <th>39</th>\n",
              "      <td>gpu_with_shared_mem</td>\n",
              "      <td>9</td>\n",
              "      <td>0.200025</td>\n",
              "    </tr>\n",
              "    <tr>\n",
              "      <th>40</th>\n",
              "      <td>gpu_with_shared_mem</td>\n",
              "      <td>10</td>\n",
              "      <td>0.205086</td>\n",
              "    </tr>\n",
              "    <tr>\n",
              "      <th>41</th>\n",
              "      <td>gpu_with_shared_mem</td>\n",
              "      <td>11</td>\n",
              "      <td>0.217722</td>\n",
              "    </tr>\n",
              "    <tr>\n",
              "      <th>42</th>\n",
              "      <td>gpu_with_shared_mem</td>\n",
              "      <td>12</td>\n",
              "      <td>0.272633</td>\n",
              "    </tr>\n",
              "    <tr>\n",
              "      <th>43</th>\n",
              "      <td>gpu_with_shared_mem</td>\n",
              "      <td>13</td>\n",
              "      <td>0.294739</td>\n",
              "    </tr>\n",
              "    <tr>\n",
              "      <th>44</th>\n",
              "      <td>gpu_with_shared_mem</td>\n",
              "      <td>14</td>\n",
              "      <td>0.413084</td>\n",
              "    </tr>\n",
              "  </tbody>\n",
              "</table>\n",
              "</div>\n",
              "      <button class=\"colab-df-convert\" onclick=\"convertToInteractive('df-b815d25f-3abb-452b-b1f9-7fb87c8ee9f8')\"\n",
              "              title=\"Convert this dataframe to an interactive table.\"\n",
              "              style=\"display:none;\">\n",
              "        \n",
              "  <svg xmlns=\"http://www.w3.org/2000/svg\" height=\"24px\"viewBox=\"0 0 24 24\"\n",
              "       width=\"24px\">\n",
              "    <path d=\"M0 0h24v24H0V0z\" fill=\"none\"/>\n",
              "    <path d=\"M18.56 5.44l.94 2.06.94-2.06 2.06-.94-2.06-.94-.94-2.06-.94 2.06-2.06.94zm-11 1L8.5 8.5l.94-2.06 2.06-.94-2.06-.94L8.5 2.5l-.94 2.06-2.06.94zm10 10l.94 2.06.94-2.06 2.06-.94-2.06-.94-.94-2.06-.94 2.06-2.06.94z\"/><path d=\"M17.41 7.96l-1.37-1.37c-.4-.4-.92-.59-1.43-.59-.52 0-1.04.2-1.43.59L10.3 9.45l-7.72 7.72c-.78.78-.78 2.05 0 2.83L4 21.41c.39.39.9.59 1.41.59.51 0 1.02-.2 1.41-.59l7.78-7.78 2.81-2.81c.8-.78.8-2.07 0-2.86zM5.41 20L4 18.59l7.72-7.72 1.47 1.35L5.41 20z\"/>\n",
              "  </svg>\n",
              "      </button>\n",
              "      \n",
              "  <style>\n",
              "    .colab-df-container {\n",
              "      display:flex;\n",
              "      flex-wrap:wrap;\n",
              "      gap: 12px;\n",
              "    }\n",
              "\n",
              "    .colab-df-convert {\n",
              "      background-color: #E8F0FE;\n",
              "      border: none;\n",
              "      border-radius: 50%;\n",
              "      cursor: pointer;\n",
              "      display: none;\n",
              "      fill: #1967D2;\n",
              "      height: 32px;\n",
              "      padding: 0 0 0 0;\n",
              "      width: 32px;\n",
              "    }\n",
              "\n",
              "    .colab-df-convert:hover {\n",
              "      background-color: #E2EBFA;\n",
              "      box-shadow: 0px 1px 2px rgba(60, 64, 67, 0.3), 0px 1px 3px 1px rgba(60, 64, 67, 0.15);\n",
              "      fill: #174EA6;\n",
              "    }\n",
              "\n",
              "    [theme=dark] .colab-df-convert {\n",
              "      background-color: #3B4455;\n",
              "      fill: #D2E3FC;\n",
              "    }\n",
              "\n",
              "    [theme=dark] .colab-df-convert:hover {\n",
              "      background-color: #434B5C;\n",
              "      box-shadow: 0px 1px 3px 1px rgba(0, 0, 0, 0.15);\n",
              "      filter: drop-shadow(0px 1px 2px rgba(0, 0, 0, 0.3));\n",
              "      fill: #FFFFFF;\n",
              "    }\n",
              "  </style>\n",
              "\n",
              "      <script>\n",
              "        const buttonEl =\n",
              "          document.querySelector('#df-b815d25f-3abb-452b-b1f9-7fb87c8ee9f8 button.colab-df-convert');\n",
              "        buttonEl.style.display =\n",
              "          google.colab.kernel.accessAllowed ? 'block' : 'none';\n",
              "\n",
              "        async function convertToInteractive(key) {\n",
              "          const element = document.querySelector('#df-b815d25f-3abb-452b-b1f9-7fb87c8ee9f8');\n",
              "          const dataTable =\n",
              "            await google.colab.kernel.invokeFunction('convertToInteractive',\n",
              "                                                     [key], {});\n",
              "          if (!dataTable) return;\n",
              "\n",
              "          const docLinkHtml = 'Like what you see? Visit the ' +\n",
              "            '<a target=\"_blank\" href=https://colab.research.google.com/notebooks/data_table.ipynb>data table notebook</a>'\n",
              "            + ' to learn more about interactive tables.';\n",
              "          element.innerHTML = '';\n",
              "          dataTable['output_type'] = 'display_data';\n",
              "          await google.colab.output.renderOutput(dataTable, element);\n",
              "          const docLink = document.createElement('div');\n",
              "          docLink.innerHTML = docLinkHtml;\n",
              "          element.appendChild(docLink);\n",
              "        }\n",
              "      </script>\n",
              "    </div>\n",
              "  </div>\n",
              "  "
            ],
            "text/plain": [
              "                   version  radius  elapsed_time\n",
              "0   cpu_no_parallelization       0      0.098292\n",
              "1   cpu_no_parallelization       1      0.210398\n",
              "2   cpu_no_parallelization       2      0.495293\n",
              "3   cpu_no_parallelization       3      0.920479\n",
              "4   cpu_no_parallelization       4      1.499568\n",
              "5   cpu_no_parallelization       5      2.835988\n",
              "6   cpu_no_parallelization       6      3.083325\n",
              "7   cpu_no_parallelization       7      5.074914\n",
              "8   cpu_no_parallelization       8      5.262189\n",
              "9   cpu_no_parallelization       9      7.732168\n",
              "10  cpu_no_parallelization      10     10.004856\n",
              "11  cpu_no_parallelization      11     10.507836\n",
              "12  cpu_no_parallelization      12     12.136350\n",
              "13  cpu_no_parallelization      13     13.973446\n",
              "14  cpu_no_parallelization      14     16.978888\n",
              "15       gpu_no_shared_mem       0      0.188816\n",
              "16       gpu_no_shared_mem       1      0.184115\n",
              "17       gpu_no_shared_mem       2      0.208423\n",
              "18       gpu_no_shared_mem       3      0.226843\n",
              "19       gpu_no_shared_mem       4      0.278988\n",
              "20       gpu_no_shared_mem       5      0.392922\n",
              "21       gpu_no_shared_mem       6      0.409024\n",
              "22       gpu_no_shared_mem       7      0.475272\n",
              "23       gpu_no_shared_mem       8      0.519737\n",
              "24       gpu_no_shared_mem       9      0.554831\n",
              "25       gpu_no_shared_mem      10      0.637690\n",
              "26       gpu_no_shared_mem      11      0.620965\n",
              "27       gpu_no_shared_mem      12      0.564895\n",
              "28       gpu_no_shared_mem      13      0.682980\n",
              "29       gpu_no_shared_mem      14      0.725979\n",
              "30     gpu_with_shared_mem       0      0.198353\n",
              "31     gpu_with_shared_mem       1      0.189500\n",
              "32     gpu_with_shared_mem       2      0.189955\n",
              "33     gpu_with_shared_mem       3      0.182470\n",
              "34     gpu_with_shared_mem       4      0.178595\n",
              "35     gpu_with_shared_mem       5      0.183754\n",
              "36     gpu_with_shared_mem       6      0.225806\n",
              "37     gpu_with_shared_mem       7      0.195941\n",
              "38     gpu_with_shared_mem       8      0.200859\n",
              "39     gpu_with_shared_mem       9      0.200025\n",
              "40     gpu_with_shared_mem      10      0.205086\n",
              "41     gpu_with_shared_mem      11      0.217722\n",
              "42     gpu_with_shared_mem      12      0.272633\n",
              "43     gpu_with_shared_mem      13      0.294739\n",
              "44     gpu_with_shared_mem      14      0.413084"
            ]
          },
          "metadata": {},
          "output_type": "display_data"
        }
      ],
      "source": [
        "display(df)"
      ]
    },
    {
      "cell_type": "code",
      "execution_count": null,
      "metadata": {
        "id": "c9eBiS7kXW1_"
      },
      "outputs": [],
      "source": [
        "df.to_csv(\"speed_measurement.csv\", encoding='utf-8', index=False)"
      ]
    },
    {
      "attachments": {},
      "cell_type": "markdown",
      "metadata": {
        "id": "0_2IjngGL5sD"
      },
      "source": [
        "### Analyzing"
      ]
    },
    {
      "cell_type": "code",
      "execution_count": null,
      "metadata": {
        "id": "4RzXfMtjYE7J"
      },
      "outputs": [],
      "source": [
        "df = pd.read_csv('speed_measurement.csv')"
      ]
    },
    {
      "cell_type": "code",
      "execution_count": null,
      "metadata": {
        "id": "Qe8cLyUReflZ"
      },
      "outputs": [],
      "source": [
        "plt.rcParams[\"figure.figsize\"] = (20,8)\n",
        "plt.style.use('dark_background')"
      ]
    },
    {
      "cell_type": "code",
      "execution_count": null,
      "metadata": {
        "colab": {
          "base_uri": "https://localhost:8080/",
          "height": 479
        },
        "id": "fq34AdJlWVV6",
        "outputId": "07f7213c-e845-45f8-b57e-e8a9738e8f86"
      },
      "outputs": [
        {
          "data": {
            "image/png": "[encoded data removed]",
            "text/plain": [
              "<Figure size 2000x800 with 1 Axes>"
            ]
          },
          "metadata": {},
          "output_type": "display_data"
        }
      ],
      "source": [
        "x=df['radius'].unique()\n",
        "plt.plot(x, df[df['version']==versions[0]]['elapsed_time'].values, marker = 'o', label = \"CPU\")\n",
        "plt.plot(x, df[df['version']==versions[1]]['elapsed_time'].values, marker = 'o', label = \"GPU no shared mem\")\n",
        "plt.plot(x, df[df['version']==versions[2]]['elapsed_time'].values, marker = 'o', label = \"GPU with shared mem\")\n",
        "\n",
        "plt.xlabel(\"radius\")\n",
        "plt.ylabel(\"elapsed time\")\n",
        "\n",
        "plt.legend()\n",
        "plt.show()"
      ]
    },
    {
      "cell_type": "code",
      "execution_count": null,
      "metadata": {
        "colab": {
          "base_uri": "https://localhost:8080/",
          "height": 479
        },
        "id": "ludJX7nQeli_",
        "outputId": "255ded1d-3f6f-4731-9aab-14d57c1b0f1f"
      },
      "outputs": [
        {
          "data": {
            "image/png": "[encoded data removed]",
            "text/plain": [
              "<Figure size 2000x800 with 1 Axes>"
            ]
          },
          "metadata": {},
          "output_type": "display_data"
        }
      ],
      "source": [
        "subset=df[df['radius']<=2]\n",
        "\n",
        "x=subset['radius'].unique()\n",
        "plt.plot(x, subset[subset['version']==versions[0]]['elapsed_time'].values, marker = 'o', label = \"CPU\")\n",
        "plt.plot(x, subset[subset['version']==versions[1]]['elapsed_time'].values, marker = 'o', label = \"GPU no shared mem\")\n",
        "plt.plot(x, subset[subset['version']==versions[2]]['elapsed_time'].values, marker = 'o', label = \"GPU with shared mem\")\n",
        "\n",
        "plt.xlabel(\"radius\")\n",
        "plt.ylabel(\"elapsed time\")\n",
        "\n",
        "plt.legend()\n",
        "plt.show()"
      ]
    },
    {
      "cell_type": "code",
      "execution_count": null,
      "metadata": {
        "colab": {
          "base_uri": "https://localhost:8080/",
          "height": 481
        },
        "id": "gjYU1-IyMOVp",
        "outputId": "9813c644-7b8e-4434-f97c-ff522c40726d"
      },
      "outputs": [
        {
          "data": {
            "image/png": "[encoded data removed]",
            "text/plain": [
              "<Figure size 2000x800 with 1 Axes>"
            ]
          },
          "metadata": {},
          "output_type": "display_data"
        }
      ],
      "source": [
        "x=df['radius'].unique()\n",
        "plt.plot(x, df[df['version']==versions[1]]['elapsed_time'].values, marker = 'o', label = \"GPU no shared mem\")\n",
        "plt.plot(x, df[df['version']==versions[2]]['elapsed_time'].values, marker = 'o', label = \"GPU with shared mem\")\n",
        "\n",
        "plt.xlabel(\"radius\")\n",
        "plt.ylabel(\"elapsed time\")\n",
        "plt.style.use('dark_background')\n",
        "\n",
        "plt.legend()\n",
        "plt.show()"
      ]
    },
    {
      "attachments": {},
      "cell_type": "markdown",
      "metadata": {
        "id": "TBSq_ebFPmV1"
      },
      "source": [
        "## References\n",
        "[1] [NVIDIA](https://docs.nvidia.com/vpi/algo_box_filter.html)\n",
        "\n",
        "[2] [CUDA Thread Basics](http://users.wfu.edu/choss/CUDA/docs/Lecture%205.pdf)\n",
        "\n",
        "[3] [Image Processing & Video Algorithms\n",
        "with CUDA](https://www.nvidia.com/content/nvision2008/tech_presentations/Game_Developer_Track/NVISION08-Image_Processing_and_Video_with_CUDA.pdf)\n",
        "\n",
        "[4] [Tesla T4 documentation](https://tvm.d2l.ai/chapter_gpu_schedules/arch.html)"
      ]
    }
  ],
  "metadata": {
    "accelerator": "GPU",
    "colab": {
      "collapsed_sections": [
        "emktIVkyqHuW",
        "qjM5R98AqUBt",
        "EykFx07gGKO2",
        "FZsf5Md2J_ze",
        "CVNvg4M8btUT",
        "fhi-tdltcJcu",
        "YbE6k1uGawel",
        "GRP9CVFva1s0",
        "s2FitCk_4Rag",
        "DFwGDXw6OEFP",
        "OGCUATT_SXGr",
        "MRPcnaj4xI0Y",
        "xBe-tsFEWFdG",
        "lUiR3fWz1ptS",
        "Aei5LbTcjwn8"
      ],
      "gpuType": "T4",
      "include_colab_link": true,
      "provenance": []
    },
    "kernelspec": {
      "display_name": "Python 3",
      "name": "python3"
    },
    "language_info": {
      "name": "python"
    }
  },
  "nbformat": 4,
  "nbformat_minor": 0
}
